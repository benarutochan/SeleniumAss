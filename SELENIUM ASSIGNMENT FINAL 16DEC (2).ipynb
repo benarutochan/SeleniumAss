{
 "cells": [
  {
   "cell_type": "code",
   "execution_count": 18,
   "id": "b99c4795",
   "metadata": {},
   "outputs": [],
   "source": [
    "import selenium\n",
    "import pandas as pd\n",
    "from selenium import webdriver\n"
   ]
  },
  {
   "cell_type": "markdown",
   "id": "b5fda9fa",
   "metadata": {},
   "source": [
    "## Que-1"
   ]
  },
  {
   "cell_type": "code",
   "execution_count": 3,
   "id": "fac71ac9",
   "metadata": {},
   "outputs": [
    {
     "name": "stderr",
     "output_type": "stream",
     "text": [
      "<ipython-input-3-c96317125144>:1: DeprecationWarning: executable_path has been deprecated, please pass in a Service object\n",
      "  driver = webdriver.Chrome(r\"D:\\agent\\oCT NEW\\chromedriver.exe\")\n"
     ]
    }
   ],
   "source": [
    "driver = webdriver.Chrome(r\"D:\\agent\\oCT NEW\\chromedriver.exe\")\n",
    "driver.get(\"https://www.naukri.com/\")"
   ]
  },
  {
   "cell_type": "code",
   "execution_count": 4,
   "id": "36a1abf6",
   "metadata": {},
   "outputs": [
    {
     "name": "stderr",
     "output_type": "stream",
     "text": [
      "<ipython-input-4-80ab3a82452b>:1: DeprecationWarning: find_element_by_* commands are deprecated. Please use find_element() instead\n",
      "  search_job = driver.find_element_by_id('qsb-keyword-sugg')\n",
      "<ipython-input-4-80ab3a82452b>:4: DeprecationWarning: find_element_by_* commands are deprecated. Please use find_element() instead\n",
      "  search_loc=driver.find_element_by_xpath(\"//input[@id='qsb-location-sugg']\")\n",
      "<ipython-input-4-80ab3a82452b>:7: DeprecationWarning: find_element_by_* commands are deprecated. Please use find_element() instead\n",
      "  search_btn = driver.find_element_by_xpath(\"//div[@class='search-btn']/button\")\n"
     ]
    }
   ],
   "source": [
    "search_job = driver.find_element_by_id('qsb-keyword-sugg')\n",
    "search_job.send_keys(\"Data Analyst\")\n",
    "\n",
    "search_loc=driver.find_element_by_xpath(\"//input[@id='qsb-location-sugg']\")\n",
    "search_loc.send_keys(\"Bangalore\")\n",
    "\n",
    "search_btn = driver.find_element_by_xpath(\"//div[@class='search-btn']/button\")\n",
    "search_btn.click()\n",
    "\n",
    "job_title=[]\n",
    "location_name=[]\n",
    "company_list=[]\n",
    "experience_list=[]\n",
    "\n"
   ]
  },
  {
   "cell_type": "code",
   "execution_count": 5,
   "id": "0edd9313",
   "metadata": {},
   "outputs": [
    {
     "name": "stderr",
     "output_type": "stream",
     "text": [
      "<ipython-input-5-e4ef8587cdc3>:1: DeprecationWarning: find_elements_by_* commands are deprecated. Please use find_elements() instead\n",
      "  title_tags= driver.find_elements_by_xpath(\"//a[@class='title fw500 ellipsis']\")\n",
      "<ipython-input-5-e4ef8587cdc3>:2: DeprecationWarning: find_elements_by_* commands are deprecated. Please use find_elements() instead\n",
      "  company_tags= driver.find_elements_by_xpath(\"//a[@class='subTitle ellipsis fleft']\")\n",
      "<ipython-input-5-e4ef8587cdc3>:3: DeprecationWarning: find_elements_by_* commands are deprecated. Please use find_elements() instead\n",
      "  experience_tags= driver.find_elements_by_xpath(\"//li[@class='fleft grey-text br2 placeHolderLi experience']/span[1]\")\n",
      "<ipython-input-5-e4ef8587cdc3>:4: DeprecationWarning: find_elements_by_* commands are deprecated. Please use find_elements() instead\n",
      "  location_tags= driver.find_elements_by_xpath(\"//li[@class='fleft grey-text br2 placeHolderLi location']/span[1]\")\n"
     ]
    }
   ],
   "source": [
    "title_tags= driver.find_elements_by_xpath(\"//a[@class='title fw500 ellipsis']\")\n",
    "company_tags= driver.find_elements_by_xpath(\"//a[@class='subTitle ellipsis fleft']\")\n",
    "experience_tags= driver.find_elements_by_xpath(\"//li[@class='fleft grey-text br2 placeHolderLi experience']/span[1]\")\n",
    "location_tags= driver.find_elements_by_xpath(\"//li[@class='fleft grey-text br2 placeHolderLi location']/span[1]\")"
   ]
  },
  {
   "cell_type": "code",
   "execution_count": 6,
   "id": "59853e3f",
   "metadata": {},
   "outputs": [],
   "source": [
    "for i in title_tags:\n",
    "        title=i.text\n",
    "        job_title.append(title)\n",
    "job_title[0:4]      \n",
    "        \n",
    "for i in company_tags:\n",
    "        company=i.text\n",
    "        company_list.append(company)\n",
    "company_list[0:4]        \n",
    "        \n",
    "for i in experience_tags:\n",
    "        exp=i.text\n",
    "        experience_list.append(exp)\n",
    "\n",
    "for i in location_tags:\n",
    "        loc=i.text\n",
    "        location_name.append(loc)\n",
    "       "
   ]
  },
  {
   "cell_type": "code",
   "execution_count": 7,
   "id": "caf585da",
   "metadata": {},
   "outputs": [
    {
     "name": "stdout",
     "output_type": "stream",
     "text": [
      "20 20 20 20\n"
     ]
    }
   ],
   "source": [
    "print(len(location_name ),len(experience_list),len(company_list),len(job_title))"
   ]
  },
  {
   "cell_type": "code",
   "execution_count": 8,
   "id": "6f1aed8d",
   "metadata": {},
   "outputs": [
    {
     "data": {
      "text/html": [
       "<div>\n",
       "<style scoped>\n",
       "    .dataframe tbody tr th:only-of-type {\n",
       "        vertical-align: middle;\n",
       "    }\n",
       "\n",
       "    .dataframe tbody tr th {\n",
       "        vertical-align: top;\n",
       "    }\n",
       "\n",
       "    .dataframe thead th {\n",
       "        text-align: right;\n",
       "    }\n",
       "</style>\n",
       "<table border=\"1\" class=\"dataframe\">\n",
       "  <thead>\n",
       "    <tr style=\"text-align: right;\">\n",
       "      <th></th>\n",
       "      <th>Profession</th>\n",
       "      <th>Location</th>\n",
       "      <th>Company</th>\n",
       "      <th>Experience</th>\n",
       "    </tr>\n",
       "  </thead>\n",
       "  <tbody>\n",
       "    <tr>\n",
       "      <th>0</th>\n",
       "      <td>Hiring -Data Analyst, Business Analyst, MIS An...</td>\n",
       "      <td>Bangalore/Bengaluru</td>\n",
       "      <td>Flipkart</td>\n",
       "      <td>1-6 Yrs</td>\n",
       "    </tr>\n",
       "    <tr>\n",
       "      <th>1</th>\n",
       "      <td>Business Analyst/ Data Analyst- Capital Market...</td>\n",
       "      <td>Pune, Bangalore/Bengaluru</td>\n",
       "      <td>Genpact</td>\n",
       "      <td>7-12 Yrs</td>\n",
       "    </tr>\n",
       "    <tr>\n",
       "      <th>2</th>\n",
       "      <td>Senior Data Analyst III</td>\n",
       "      <td>Bengaluru/Bangalore</td>\n",
       "      <td>Flipkart</td>\n",
       "      <td>2-4 Yrs</td>\n",
       "    </tr>\n",
       "    <tr>\n",
       "      <th>3</th>\n",
       "      <td>Data Analyst</td>\n",
       "      <td>Bangalore/Bengaluru</td>\n",
       "      <td>GlaxoSmithKline Pharmaceuticals Limited</td>\n",
       "      <td>3-8 Yrs</td>\n",
       "    </tr>\n",
       "    <tr>\n",
       "      <th>4</th>\n",
       "      <td>Customer Data Management Analyst</td>\n",
       "      <td>Bangalore/Bengaluru</td>\n",
       "      <td>Aspect</td>\n",
       "      <td>0-2 Yrs</td>\n",
       "    </tr>\n",
       "    <tr>\n",
       "      <th>5</th>\n",
       "      <td>Data Analyst</td>\n",
       "      <td>Bangalore/Bengaluru</td>\n",
       "      <td>Schneider Electric</td>\n",
       "      <td>2-5 Yrs</td>\n",
       "    </tr>\n",
       "    <tr>\n",
       "      <th>6</th>\n",
       "      <td>Senior Data Analyst</td>\n",
       "      <td>Bangalore/Bengaluru</td>\n",
       "      <td>Flipkart</td>\n",
       "      <td>3-7 Yrs</td>\n",
       "    </tr>\n",
       "    <tr>\n",
       "      <th>7</th>\n",
       "      <td>Senior Data Analyst for HANA Platform</td>\n",
       "      <td>Bangalore/Bengaluru</td>\n",
       "      <td>Intel</td>\n",
       "      <td>5-10 Yrs</td>\n",
       "    </tr>\n",
       "    <tr>\n",
       "      <th>8</th>\n",
       "      <td>Assistant/deputy Manager - Geo-spatial Data An...</td>\n",
       "      <td>Gurgaon/Gurugram, bangalore</td>\n",
       "      <td>Maruti Suzuki India</td>\n",
       "      <td>3-5 Yrs</td>\n",
       "    </tr>\n",
       "    <tr>\n",
       "      <th>9</th>\n",
       "      <td>Data Analyst</td>\n",
       "      <td>Bangalore/Bengaluru</td>\n",
       "      <td>Slice</td>\n",
       "      <td>0-2 Yrs</td>\n",
       "    </tr>\n",
       "    <tr>\n",
       "      <th>10</th>\n",
       "      <td>DG - Business Analyst - Data Visualization &amp; A...</td>\n",
       "      <td>Bangalore/Bengaluru</td>\n",
       "      <td>ExecBoardinAsia</td>\n",
       "      <td>5-10 Yrs</td>\n",
       "    </tr>\n",
       "    <tr>\n",
       "      <th>11</th>\n",
       "      <td>Hiring Business Data Analyst +ETL- Tech Mahind...</td>\n",
       "      <td>Bangalore/Bengaluru</td>\n",
       "      <td>Tech Mahindra</td>\n",
       "      <td>6-10 Yrs</td>\n",
       "    </tr>\n",
       "    <tr>\n",
       "      <th>12</th>\n",
       "      <td>Senior Data Analyst</td>\n",
       "      <td>Bangalore/Bengaluru</td>\n",
       "      <td>Rapido</td>\n",
       "      <td>1-6 Yrs</td>\n",
       "    </tr>\n",
       "    <tr>\n",
       "      <th>13</th>\n",
       "      <td>Senior Data Analyst</td>\n",
       "      <td>Kolkata, Hyderabad/Secunderabad, Pune, Ahmedab...</td>\n",
       "      <td>SYREN TECHNOLOGIES PRIVATE LIMITED</td>\n",
       "      <td>5-10 Yrs</td>\n",
       "    </tr>\n",
       "    <tr>\n",
       "      <th>14</th>\n",
       "      <td>Senior Data Analyst</td>\n",
       "      <td>Bengaluru/Bangalore</td>\n",
       "      <td>Flipkart</td>\n",
       "      <td>4-5 Yrs</td>\n",
       "    </tr>\n",
       "    <tr>\n",
       "      <th>15</th>\n",
       "      <td>Openings For SQL Data Analyst</td>\n",
       "      <td>Hyderabad/Secunderabad, Bangalore/Bengaluru</td>\n",
       "      <td>StackNexus Technologies India Pvt. Ltd</td>\n",
       "      <td>3-6 Yrs</td>\n",
       "    </tr>\n",
       "    <tr>\n",
       "      <th>16</th>\n",
       "      <td>Data Analyst</td>\n",
       "      <td>Bangalore/Bengaluru</td>\n",
       "      <td>Truecaller</td>\n",
       "      <td>2-4 Yrs</td>\n",
       "    </tr>\n",
       "    <tr>\n",
       "      <th>17</th>\n",
       "      <td>Data Analyst</td>\n",
       "      <td>Bangalore/Bengaluru</td>\n",
       "      <td>Atlassian</td>\n",
       "      <td>3-6 Yrs</td>\n",
       "    </tr>\n",
       "    <tr>\n",
       "      <th>18</th>\n",
       "      <td>Data Analyst (On Contract)</td>\n",
       "      <td>Bangalore/Bengaluru</td>\n",
       "      <td>Rupeek Fintech Pvt Ltd</td>\n",
       "      <td>0-2 Yrs</td>\n",
       "    </tr>\n",
       "    <tr>\n",
       "      <th>19</th>\n",
       "      <td>Manager - Data Analyst</td>\n",
       "      <td>Bangalore/Bengaluru</td>\n",
       "      <td>Genpact</td>\n",
       "      <td>5-10 Yrs</td>\n",
       "    </tr>\n",
       "  </tbody>\n",
       "</table>\n",
       "</div>"
      ],
      "text/plain": [
       "                                           Profession  \\\n",
       "0   Hiring -Data Analyst, Business Analyst, MIS An...   \n",
       "1   Business Analyst/ Data Analyst- Capital Market...   \n",
       "2                             Senior Data Analyst III   \n",
       "3                                        Data Analyst   \n",
       "4                    Customer Data Management Analyst   \n",
       "5                                        Data Analyst   \n",
       "6                                 Senior Data Analyst   \n",
       "7               Senior Data Analyst for HANA Platform   \n",
       "8   Assistant/deputy Manager - Geo-spatial Data An...   \n",
       "9                                        Data Analyst   \n",
       "10  DG - Business Analyst - Data Visualization & A...   \n",
       "11  Hiring Business Data Analyst +ETL- Tech Mahind...   \n",
       "12                                Senior Data Analyst   \n",
       "13                                Senior Data Analyst   \n",
       "14                                Senior Data Analyst   \n",
       "15                      Openings For SQL Data Analyst   \n",
       "16                                       Data Analyst   \n",
       "17                                       Data Analyst   \n",
       "18                         Data Analyst (On Contract)   \n",
       "19                             Manager - Data Analyst   \n",
       "\n",
       "                                             Location  \\\n",
       "0                                 Bangalore/Bengaluru   \n",
       "1                           Pune, Bangalore/Bengaluru   \n",
       "2                                 Bengaluru/Bangalore   \n",
       "3                                 Bangalore/Bengaluru   \n",
       "4                                 Bangalore/Bengaluru   \n",
       "5                                 Bangalore/Bengaluru   \n",
       "6                                 Bangalore/Bengaluru   \n",
       "7                                 Bangalore/Bengaluru   \n",
       "8                         Gurgaon/Gurugram, bangalore   \n",
       "9                                 Bangalore/Bengaluru   \n",
       "10                                Bangalore/Bengaluru   \n",
       "11                                Bangalore/Bengaluru   \n",
       "12                                Bangalore/Bengaluru   \n",
       "13  Kolkata, Hyderabad/Secunderabad, Pune, Ahmedab...   \n",
       "14                                Bengaluru/Bangalore   \n",
       "15        Hyderabad/Secunderabad, Bangalore/Bengaluru   \n",
       "16                                Bangalore/Bengaluru   \n",
       "17                                Bangalore/Bengaluru   \n",
       "18                                Bangalore/Bengaluru   \n",
       "19                                Bangalore/Bengaluru   \n",
       "\n",
       "                                    Company Experience  \n",
       "0                                  Flipkart    1-6 Yrs  \n",
       "1                                   Genpact   7-12 Yrs  \n",
       "2                                  Flipkart    2-4 Yrs  \n",
       "3   GlaxoSmithKline Pharmaceuticals Limited    3-8 Yrs  \n",
       "4                                    Aspect    0-2 Yrs  \n",
       "5                        Schneider Electric    2-5 Yrs  \n",
       "6                                  Flipkart    3-7 Yrs  \n",
       "7                                     Intel   5-10 Yrs  \n",
       "8                       Maruti Suzuki India    3-5 Yrs  \n",
       "9                                     Slice    0-2 Yrs  \n",
       "10                          ExecBoardinAsia   5-10 Yrs  \n",
       "11                            Tech Mahindra   6-10 Yrs  \n",
       "12                                   Rapido    1-6 Yrs  \n",
       "13       SYREN TECHNOLOGIES PRIVATE LIMITED   5-10 Yrs  \n",
       "14                                 Flipkart    4-5 Yrs  \n",
       "15   StackNexus Technologies India Pvt. Ltd    3-6 Yrs  \n",
       "16                               Truecaller    2-4 Yrs  \n",
       "17                                Atlassian    3-6 Yrs  \n",
       "18                   Rupeek Fintech Pvt Ltd    0-2 Yrs  \n",
       "19                                  Genpact   5-10 Yrs  "
      ]
     },
     "execution_count": 8,
     "metadata": {},
     "output_type": "execute_result"
    }
   ],
   "source": [
    "jobs=pd.DataFrame({})\n",
    "jobs['Profession']=job_title\n",
    "jobs['Location']=location_name\n",
    "jobs['Company']=company_list\n",
    "jobs['Experience']=experience_list\n",
    "\n",
    "jobs"
   ]
  },
  {
   "cell_type": "markdown",
   "id": "b25ab324",
   "metadata": {},
   "source": [
    "## Que--2"
   ]
  },
  {
   "cell_type": "code",
   "execution_count": 9,
   "id": "47a6a118",
   "metadata": {},
   "outputs": [],
   "source": [
    "driver.get(\"https://www.naukri.com/\")"
   ]
  },
  {
   "cell_type": "code",
   "execution_count": 10,
   "id": "0320ba43",
   "metadata": {},
   "outputs": [
    {
     "name": "stderr",
     "output_type": "stream",
     "text": [
      "<ipython-input-10-c0f3f2d129bd>:1: DeprecationWarning: find_element_by_* commands are deprecated. Please use find_element() instead\n",
      "  search_job2 = driver.find_element_by_id('qsb-keyword-sugg')\n",
      "<ipython-input-10-c0f3f2d129bd>:3: DeprecationWarning: find_element_by_* commands are deprecated. Please use find_element() instead\n",
      "  search_loc2=driver.find_element_by_xpath(\"//input[@id='qsb-location-sugg']\")\n"
     ]
    }
   ],
   "source": [
    "search_job2 = driver.find_element_by_id('qsb-keyword-sugg')\n",
    "search_job2.send_keys(\"Data scientist \")\n",
    "search_loc2=driver.find_element_by_xpath(\"//input[@id='qsb-location-sugg']\")\n",
    "search_loc2.send_keys(\"Banglore\")\n",
    "\n"
   ]
  },
  {
   "cell_type": "code",
   "execution_count": 11,
   "id": "eae549db",
   "metadata": {},
   "outputs": [
    {
     "name": "stderr",
     "output_type": "stream",
     "text": [
      "<ipython-input-11-c9b437d84350>:1: DeprecationWarning: find_element_by_* commands are deprecated. Please use find_element() instead\n",
      "  search_btn = driver.find_element_by_xpath(\"//div[@class='search-btn']/button\")\n"
     ]
    }
   ],
   "source": [
    "search_btn = driver.find_element_by_xpath(\"//div[@class='search-btn']/button\")\n",
    "search_btn.click()"
   ]
  },
  {
   "cell_type": "code",
   "execution_count": 12,
   "id": "d69c8bcf",
   "metadata": {},
   "outputs": [],
   "source": [
    "job_title2=[]\n",
    "location_name2=[]\n",
    "company_list2=[]\n",
    "experience_list2=[]"
   ]
  },
  {
   "cell_type": "code",
   "execution_count": 13,
   "id": "8c9d4b7e",
   "metadata": {},
   "outputs": [
    {
     "name": "stderr",
     "output_type": "stream",
     "text": [
      "<ipython-input-13-ec648c0e6adb>:1: DeprecationWarning: find_elements_by_* commands are deprecated. Please use find_elements() instead\n",
      "  title_tags2= driver.find_elements_by_xpath(\"//a[@class='title fw500 ellipsis']\")\n",
      "<ipython-input-13-ec648c0e6adb>:3: DeprecationWarning: find_elements_by_* commands are deprecated. Please use find_elements() instead\n",
      "  company_tags2= driver.find_elements_by_xpath(\"//a[@class='subTitle ellipsis fleft']\")\n",
      "<ipython-input-13-ec648c0e6adb>:5: DeprecationWarning: find_elements_by_* commands are deprecated. Please use find_elements() instead\n",
      "  experience_tags2= driver.find_elements_by_xpath(\"//li[@class='fleft grey-text br2 placeHolderLi experience']/span[1]\")\n",
      "<ipython-input-13-ec648c0e6adb>:7: DeprecationWarning: find_elements_by_* commands are deprecated. Please use find_elements() instead\n",
      "  location_tags2= driver.find_elements_by_xpath(\"//li[@class='fleft grey-text br2 placeHolderLi location']/span[1]\")\n"
     ]
    }
   ],
   "source": [
    "title_tags2= driver.find_elements_by_xpath(\"//a[@class='title fw500 ellipsis']\")\n",
    "\n",
    "company_tags2= driver.find_elements_by_xpath(\"//a[@class='subTitle ellipsis fleft']\")\n",
    "\n",
    "experience_tags2= driver.find_elements_by_xpath(\"//li[@class='fleft grey-text br2 placeHolderLi experience']/span[1]\")\n",
    "\n",
    "location_tags2= driver.find_elements_by_xpath(\"//li[@class='fleft grey-text br2 placeHolderLi location']/span[1]\")\n"
   ]
  },
  {
   "cell_type": "code",
   "execution_count": 14,
   "id": "892246c4",
   "metadata": {},
   "outputs": [],
   "source": [
    "for i in title_tags2:\n",
    "        title2=i.text\n",
    "        job_title2.append(title2)\n",
    "job_title2= job_title2[:10]\n",
    "        \n",
    "for i in company_tags2:\n",
    "        company2=i.text\n",
    "        company_list2.append(company2)\n",
    "company_list2=company_list2[:10]\n",
    "        \n",
    "for i in experience_tags2:\n",
    "        exp2=i.text\n",
    "        experience_list2.append(exp2)\n",
    "experience_list2=experience_list2[:10]\n",
    "        \n",
    "for i in location_tags2:\n",
    "        loc2=i.text\n",
    "        location_name2.append(loc2)\n",
    "location_name2= location_name2[:10]\n",
    "              "
   ]
  },
  {
   "cell_type": "code",
   "execution_count": 15,
   "id": "c1ef44f2",
   "metadata": {},
   "outputs": [
    {
     "name": "stdout",
     "output_type": "stream",
     "text": [
      "10 10 10 10\n"
     ]
    }
   ],
   "source": [
    "print(len(location_name2),len(experience_list2),len(company_list2),len(job_title2))"
   ]
  },
  {
   "cell_type": "code",
   "execution_count": 16,
   "id": "13bde7ca",
   "metadata": {},
   "outputs": [
    {
     "data": {
      "text/html": [
       "<div>\n",
       "<style scoped>\n",
       "    .dataframe tbody tr th:only-of-type {\n",
       "        vertical-align: middle;\n",
       "    }\n",
       "\n",
       "    .dataframe tbody tr th {\n",
       "        vertical-align: top;\n",
       "    }\n",
       "\n",
       "    .dataframe thead th {\n",
       "        text-align: right;\n",
       "    }\n",
       "</style>\n",
       "<table border=\"1\" class=\"dataframe\">\n",
       "  <thead>\n",
       "    <tr style=\"text-align: right;\">\n",
       "      <th></th>\n",
       "      <th>Profession</th>\n",
       "      <th>Location</th>\n",
       "      <th>Company</th>\n",
       "      <th>Experience</th>\n",
       "    </tr>\n",
       "  </thead>\n",
       "  <tbody>\n",
       "    <tr>\n",
       "      <th>0</th>\n",
       "      <td>Data Scientist: Advanced Analytics</td>\n",
       "      <td>Bengaluru/Bangalore</td>\n",
       "      <td>IBM India Pvt. Limited</td>\n",
       "      <td>5-7 Yrs</td>\n",
       "    </tr>\n",
       "    <tr>\n",
       "      <th>1</th>\n",
       "      <td>Deputy Manager - Data Scientist</td>\n",
       "      <td>Bangalore/Bengaluru</td>\n",
       "      <td>HDFC LIFE INSURANCE COMPANY LIMITED</td>\n",
       "      <td>3-7 Yrs</td>\n",
       "    </tr>\n",
       "    <tr>\n",
       "      <th>2</th>\n",
       "      <td>Tcs Hiring For Azure ML Data Scientist</td>\n",
       "      <td>Hyderabad/Secunderabad, Bangalore/Bengaluru, M...</td>\n",
       "      <td>Tata Consultancy Services Ltd.</td>\n",
       "      <td>3-8 Yrs</td>\n",
       "    </tr>\n",
       "    <tr>\n",
       "      <th>3</th>\n",
       "      <td>Senior Engineer - AIML - Data Scientist</td>\n",
       "      <td>Bangalore/Bengaluru</td>\n",
       "      <td>Unisys</td>\n",
       "      <td>4-9 Yrs</td>\n",
       "    </tr>\n",
       "    <tr>\n",
       "      <th>4</th>\n",
       "      <td>Senior data scientist</td>\n",
       "      <td>Bangalore/Bengaluru</td>\n",
       "      <td>Compile Inc</td>\n",
       "      <td>5-10 Yrs</td>\n",
       "    </tr>\n",
       "    <tr>\n",
       "      <th>5</th>\n",
       "      <td>Cognitive/AI Senior Data Scientist</td>\n",
       "      <td>Bengaluru/Bangalore</td>\n",
       "      <td>IBM India Pvt. Limited</td>\n",
       "      <td>4-8 Yrs</td>\n",
       "    </tr>\n",
       "    <tr>\n",
       "      <th>6</th>\n",
       "      <td>Senior Data Scientist</td>\n",
       "      <td>Bangalore/Bengaluru</td>\n",
       "      <td>Visa</td>\n",
       "      <td>4-9 Yrs</td>\n",
       "    </tr>\n",
       "    <tr>\n",
       "      <th>7</th>\n",
       "      <td>Lead/Senior Data Scientist (NLP)</td>\n",
       "      <td>Bangalore/Bengaluru</td>\n",
       "      <td>Samya.AI A FRACTAL Entity</td>\n",
       "      <td>3-8 Yrs</td>\n",
       "    </tr>\n",
       "    <tr>\n",
       "      <th>8</th>\n",
       "      <td>Data scientist</td>\n",
       "      <td>Bangalore/Bengaluru</td>\n",
       "      <td>Superior Group</td>\n",
       "      <td>5-10 Yrs</td>\n",
       "    </tr>\n",
       "    <tr>\n",
       "      <th>9</th>\n",
       "      <td>Data Scientist</td>\n",
       "      <td>Bangalore/Bengaluru</td>\n",
       "      <td>Thoucentric Technology Pvt ltd</td>\n",
       "      <td>1-6 Yrs</td>\n",
       "    </tr>\n",
       "  </tbody>\n",
       "</table>\n",
       "</div>"
      ],
      "text/plain": [
       "                                Profession  \\\n",
       "0       Data Scientist: Advanced Analytics   \n",
       "1          Deputy Manager - Data Scientist   \n",
       "2   Tcs Hiring For Azure ML Data Scientist   \n",
       "3  Senior Engineer - AIML - Data Scientist   \n",
       "4                    Senior data scientist   \n",
       "5       Cognitive/AI Senior Data Scientist   \n",
       "6                    Senior Data Scientist   \n",
       "7         Lead/Senior Data Scientist (NLP)   \n",
       "8                           Data scientist   \n",
       "9                           Data Scientist   \n",
       "\n",
       "                                            Location  \\\n",
       "0                                Bengaluru/Bangalore   \n",
       "1                                Bangalore/Bengaluru   \n",
       "2  Hyderabad/Secunderabad, Bangalore/Bengaluru, M...   \n",
       "3                                Bangalore/Bengaluru   \n",
       "4                                Bangalore/Bengaluru   \n",
       "5                                Bengaluru/Bangalore   \n",
       "6                                Bangalore/Bengaluru   \n",
       "7                                Bangalore/Bengaluru   \n",
       "8                                Bangalore/Bengaluru   \n",
       "9                                Bangalore/Bengaluru   \n",
       "\n",
       "                               Company Experience  \n",
       "0               IBM India Pvt. Limited    5-7 Yrs  \n",
       "1  HDFC LIFE INSURANCE COMPANY LIMITED    3-7 Yrs  \n",
       "2       Tata Consultancy Services Ltd.    3-8 Yrs  \n",
       "3                               Unisys    4-9 Yrs  \n",
       "4                          Compile Inc   5-10 Yrs  \n",
       "5               IBM India Pvt. Limited    4-8 Yrs  \n",
       "6                                 Visa    4-9 Yrs  \n",
       "7            Samya.AI A FRACTAL Entity    3-8 Yrs  \n",
       "8                       Superior Group   5-10 Yrs  \n",
       "9       Thoucentric Technology Pvt ltd    1-6 Yrs  "
      ]
     },
     "execution_count": 16,
     "metadata": {},
     "output_type": "execute_result"
    }
   ],
   "source": [
    "jobs2=pd.DataFrame({})\n",
    "jobs2['Profession']=job_title2\n",
    "jobs2['Location']=location_name2\n",
    "jobs2['Company']=company_list2\n",
    "jobs2['Experience']=experience_list2\n",
    "jobs2\n",
    "\n"
   ]
  },
  {
   "cell_type": "markdown",
   "id": "780caae2",
   "metadata": {},
   "source": [
    "## Que -- 3"
   ]
  },
  {
   "cell_type": "code",
   "execution_count": 77,
   "id": "d81b0325",
   "metadata": {},
   "outputs": [],
   "source": [
    "driver.get(\"https://www.naukri.com/\")"
   ]
  },
  {
   "cell_type": "code",
   "execution_count": 78,
   "id": "f05eed63",
   "metadata": {},
   "outputs": [
    {
     "name": "stderr",
     "output_type": "stream",
     "text": [
      "<ipython-input-78-80f4f51a2d27>:1: DeprecationWarning: find_element_by_* commands are deprecated. Please use find_element() instead\n",
      "  search_job3 = driver.find_element_by_id('qsb-keyword-sugg')\n",
      "<ipython-input-78-80f4f51a2d27>:3: DeprecationWarning: find_element_by_* commands are deprecated. Please use find_element() instead\n",
      "  search_btn = driver.find_element_by_xpath(\"//div[@class='search-btn']/button\")\n"
     ]
    }
   ],
   "source": [
    "search_job3 = driver.find_element_by_id('qsb-keyword-sugg')\n",
    "search_job3.send_keys(\"Data scientist \")\n",
    "search_btn = driver.find_element_by_xpath(\"//div[@class='search-btn']/button\")\n",
    "search_btn.click()"
   ]
  },
  {
   "cell_type": "code",
   "execution_count": 79,
   "id": "dc6a816e",
   "metadata": {},
   "outputs": [],
   "source": [
    "job_title3=[]\n",
    "location_filter3=[]\n",
    "company_list3=[]\n",
    "experience_list3=[]\n",
    "filteer3 =[]\n",
    "salary3=[]\n",
    "location_name3=[]"
   ]
  },
  {
   "cell_type": "code",
   "execution_count": 80,
   "id": "b4e2142b",
   "metadata": {},
   "outputs": [
    {
     "name": "stderr",
     "output_type": "stream",
     "text": [
      "<ipython-input-80-e8d6c7cb863c>:1: DeprecationWarning: find_element_by_* commands are deprecated. Please use find_element() instead\n",
      "  locdelhi=driver.find_element_by_xpath(\"/html/body/div[1]/div[3]/div[2]/section[1]/div[2]/div[3]/div[2]/div[3]/label/i\")\n"
     ]
    }
   ],
   "source": [
    "locdelhi=driver.find_element_by_xpath(\"/html/body/div[1]/div[3]/div[2]/section[1]/div[2]/div[3]/div[2]/div[3]/label/i\")\n",
    "\n",
    "locdelhi.click()"
   ]
  },
  {
   "cell_type": "code",
   "execution_count": 82,
   "id": "50a613a1",
   "metadata": {},
   "outputs": [
    {
     "name": "stderr",
     "output_type": "stream",
     "text": [
      "<ipython-input-82-bfa1cc1f8aa2>:1: DeprecationWarning: find_element_by_* commands are deprecated. Please use find_element() instead\n",
      "  salary = driver.find_element_by_xpath(\"/html/body/div[1]/div[3]/div[2]/section[1]/div[2]/div[4]/div[2]/div[2]/label/i\")\n"
     ]
    }
   ],
   "source": [
    "salary = driver.find_element_by_xpath(\"/html/body/div[1]/div[3]/div[2]/section[1]/div[2]/div[4]/div[2]/div[2]/label/i\")\n",
    "\n",
    "salary.click()"
   ]
  },
  {
   "cell_type": "code",
   "execution_count": 83,
   "id": "b0cb970b",
   "metadata": {},
   "outputs": [
    {
     "name": "stderr",
     "output_type": "stream",
     "text": [
      "<ipython-input-83-7955d862745a>:1: DeprecationWarning: find_elements_by_* commands are deprecated. Please use find_elements() instead\n",
      "  title_tags3     = driver.find_elements_by_xpath(\"//a[@class='title fw500 ellipsis']\")\n",
      "<ipython-input-83-7955d862745a>:2: DeprecationWarning: find_elements_by_* commands are deprecated. Please use find_elements() instead\n",
      "  company_tags3   = driver.find_elements_by_xpath(\"//a[@class='subTitle ellipsis fleft']\")\n",
      "<ipython-input-83-7955d862745a>:3: DeprecationWarning: find_elements_by_* commands are deprecated. Please use find_elements() instead\n",
      "  experience_tags3 = driver.find_elements_by_xpath(\"//li[@class='fleft grey-text br2 placeHolderLi experience']/span[1]\")\n",
      "<ipython-input-83-7955d862745a>:4: DeprecationWarning: find_elements_by_* commands are deprecated. Please use find_elements() instead\n",
      "  location_tags3  = driver.find_elements_by_xpath(\"//li[@class='fleft grey-text br2 placeHolderLi location']/span[1]\")\n"
     ]
    }
   ],
   "source": [
    "title_tags3     = driver.find_elements_by_xpath(\"//a[@class='title fw500 ellipsis']\")\n",
    "company_tags3   = driver.find_elements_by_xpath(\"//a[@class='subTitle ellipsis fleft']\")\n",
    "experience_tags3 = driver.find_elements_by_xpath(\"//li[@class='fleft grey-text br2 placeHolderLi experience']/span[1]\")\n",
    "location_tags3  = driver.find_elements_by_xpath(\"//li[@class='fleft grey-text br2 placeHolderLi location']/span[1]\")\n",
    "\n"
   ]
  },
  {
   "cell_type": "code",
   "execution_count": 88,
   "id": "ea2a8dea",
   "metadata": {},
   "outputs": [],
   "source": [
    "for i in title_tags3:\n",
    "        title3=i.text\n",
    "        job_title3.append(title3)\n",
    "job_title3=job_title3[:10]\n",
    "\n",
    "for i in company_tags3:\n",
    "        company3=i.text\n",
    "        company_list3.append(company3)\n",
    "company_list3=company_list3[:10]   \n",
    "\n",
    "for i in experience_tags3:\n",
    "        experi3=i.text\n",
    "        experience_list3.append(experi3)\n",
    "experience_list3=experience_list3[:10]\n",
    "\n",
    "for i in location_tags3:\n",
    "        loc3=i.text\n",
    "        location_name3.append(loc3)\n",
    "location_name3=location_name3[:10]"
   ]
  },
  {
   "cell_type": "code",
   "execution_count": 89,
   "id": "8c8d9329",
   "metadata": {},
   "outputs": [
    {
     "name": "stdout",
     "output_type": "stream",
     "text": [
      "10 10 10 10\n"
     ]
    }
   ],
   "source": [
    "print(len(location_name3),len(experience_list3),len(company_list3),len(job_title3))"
   ]
  },
  {
   "cell_type": "code",
   "execution_count": 90,
   "id": "a27f4a7f",
   "metadata": {},
   "outputs": [
    {
     "data": {
      "text/html": [
       "<div>\n",
       "<style scoped>\n",
       "    .dataframe tbody tr th:only-of-type {\n",
       "        vertical-align: middle;\n",
       "    }\n",
       "\n",
       "    .dataframe tbody tr th {\n",
       "        vertical-align: top;\n",
       "    }\n",
       "\n",
       "    .dataframe thead th {\n",
       "        text-align: right;\n",
       "    }\n",
       "</style>\n",
       "<table border=\"1\" class=\"dataframe\">\n",
       "  <thead>\n",
       "    <tr style=\"text-align: right;\">\n",
       "      <th></th>\n",
       "      <th>Profession</th>\n",
       "      <th>Location</th>\n",
       "      <th>Company</th>\n",
       "      <th>Experience</th>\n",
       "    </tr>\n",
       "  </thead>\n",
       "  <tbody>\n",
       "    <tr>\n",
       "      <th>0</th>\n",
       "      <td>Data Scientist</td>\n",
       "      <td>Noida, New Delhi, Faridabad, Gurgaon/Gurugram,...</td>\n",
       "      <td>LG Electronics India Pvt. Ltd.</td>\n",
       "      <td>0-2 Yrs</td>\n",
       "    </tr>\n",
       "    <tr>\n",
       "      <th>1</th>\n",
       "      <td>Senior Data Scientist</td>\n",
       "      <td>Pune, Bangalore/Bengaluru, Delhi / NCR</td>\n",
       "      <td>Wipro</td>\n",
       "      <td>4-9 Yrs</td>\n",
       "    </tr>\n",
       "    <tr>\n",
       "      <th>2</th>\n",
       "      <td>Data Scientist | Senior Data Scientist</td>\n",
       "      <td>Delhi / NCR, DelhiNCR</td>\n",
       "      <td>4bell Technology</td>\n",
       "      <td>6-11 Yrs</td>\n",
       "    </tr>\n",
       "    <tr>\n",
       "      <th>3</th>\n",
       "      <td>Senior Data Scientist</td>\n",
       "      <td>Kolkata, Hyderabad/Secunderabad, Pune, Chennai...</td>\n",
       "      <td>Wipro</td>\n",
       "      <td>5-10 Yrs</td>\n",
       "    </tr>\n",
       "    <tr>\n",
       "      <th>4</th>\n",
       "      <td>Data Scientist: Advanced Analytics</td>\n",
       "      <td>Delhi / NCR</td>\n",
       "      <td>IBM India Pvt. Limited</td>\n",
       "      <td>5-10 Yrs</td>\n",
       "    </tr>\n",
       "    <tr>\n",
       "      <th>5</th>\n",
       "      <td>Sr. Data Scientist</td>\n",
       "      <td>Gurgaon/Gurugram</td>\n",
       "      <td>Genpact</td>\n",
       "      <td>4-9 Yrs</td>\n",
       "    </tr>\n",
       "    <tr>\n",
       "      <th>6</th>\n",
       "      <td>Senior Manager - Forecasting data scientist</td>\n",
       "      <td>Gurgaon/Gurugram</td>\n",
       "      <td>Genpact</td>\n",
       "      <td>5-10 Yrs</td>\n",
       "    </tr>\n",
       "    <tr>\n",
       "      <th>7</th>\n",
       "      <td>Hiring Data Scientist || Cians Analytics</td>\n",
       "      <td>Gurgaon/Gurugram</td>\n",
       "      <td>Cians Analytics Pvt. Ltd.</td>\n",
       "      <td>1-3 Yrs</td>\n",
       "    </tr>\n",
       "    <tr>\n",
       "      <th>8</th>\n",
       "      <td>Hiring For Data Scientist</td>\n",
       "      <td>Hyderabad/Secunderabad, Pune, Chennai, Bangalo...</td>\n",
       "      <td>Tata Consultancy Services Ltd.</td>\n",
       "      <td>4-9 Yrs</td>\n",
       "    </tr>\n",
       "    <tr>\n",
       "      <th>9</th>\n",
       "      <td>Data Scientist/Senior Scientist - Python/Spark...</td>\n",
       "      <td>Gurgaon/Gurugram</td>\n",
       "      <td>Connexions</td>\n",
       "      <td>2-6 Yrs</td>\n",
       "    </tr>\n",
       "  </tbody>\n",
       "</table>\n",
       "</div>"
      ],
      "text/plain": [
       "                                          Profession  \\\n",
       "0                                     Data Scientist   \n",
       "1                              Senior Data Scientist   \n",
       "2             Data Scientist | Senior Data Scientist   \n",
       "3                              Senior Data Scientist   \n",
       "4                 Data Scientist: Advanced Analytics   \n",
       "5                                 Sr. Data Scientist   \n",
       "6        Senior Manager - Forecasting data scientist   \n",
       "7           Hiring Data Scientist || Cians Analytics   \n",
       "8                          Hiring For Data Scientist   \n",
       "9  Data Scientist/Senior Scientist - Python/Spark...   \n",
       "\n",
       "                                            Location  \\\n",
       "0  Noida, New Delhi, Faridabad, Gurgaon/Gurugram,...   \n",
       "1             Pune, Bangalore/Bengaluru, Delhi / NCR   \n",
       "2                              Delhi / NCR, DelhiNCR   \n",
       "3  Kolkata, Hyderabad/Secunderabad, Pune, Chennai...   \n",
       "4                                        Delhi / NCR   \n",
       "5                                   Gurgaon/Gurugram   \n",
       "6                                   Gurgaon/Gurugram   \n",
       "7                                   Gurgaon/Gurugram   \n",
       "8  Hyderabad/Secunderabad, Pune, Chennai, Bangalo...   \n",
       "9                                   Gurgaon/Gurugram   \n",
       "\n",
       "                          Company Experience  \n",
       "0  LG Electronics India Pvt. Ltd.    0-2 Yrs  \n",
       "1                           Wipro    4-9 Yrs  \n",
       "2                4bell Technology   6-11 Yrs  \n",
       "3                           Wipro   5-10 Yrs  \n",
       "4          IBM India Pvt. Limited   5-10 Yrs  \n",
       "5                         Genpact    4-9 Yrs  \n",
       "6                         Genpact   5-10 Yrs  \n",
       "7       Cians Analytics Pvt. Ltd.    1-3 Yrs  \n",
       "8  Tata Consultancy Services Ltd.    4-9 Yrs  \n",
       "9                      Connexions    2-6 Yrs  "
      ]
     },
     "execution_count": 90,
     "metadata": {},
     "output_type": "execute_result"
    }
   ],
   "source": [
    "jobs3=pd.DataFrame({})\n",
    "jobs3['Profession']=job_title3\n",
    "jobs3['Location']=location_name3\n",
    "jobs3['Company']=company_list3\n",
    "jobs3['Experience']=experience_list3\n",
    "jobs3\n"
   ]
  },
  {
   "cell_type": "markdown",
   "id": "89fdaa50",
   "metadata": {},
   "source": [
    "## Que-- 4"
   ]
  },
  {
   "cell_type": "code",
   "execution_count": 105,
   "id": "266d85ac",
   "metadata": {},
   "outputs": [],
   "source": [
    "driver.get(\"https://www.flipkart.com/\")"
   ]
  },
  {
   "cell_type": "code",
   "execution_count": 106,
   "id": "0b8db1ca",
   "metadata": {},
   "outputs": [
    {
     "name": "stderr",
     "output_type": "stream",
     "text": [
      "<ipython-input-106-f8b65c5004ec>:1: DeprecationWarning: find_element_by_* commands are deprecated. Please use find_element() instead\n",
      "  loc4=driver.find_element_by_xpath(\"/html/body/div[1]/div/div[1]/div[1]/div[2]/div[2]/form/div/div/input\")\n",
      "<ipython-input-106-f8b65c5004ec>:3: DeprecationWarning: find_element_by_* commands are deprecated. Please use find_element() instead\n",
      "  button4=driver.find_element_by_class_name(\"L0Z3Pu\")\n"
     ]
    }
   ],
   "source": [
    "loc4=driver.find_element_by_xpath(\"/html/body/div[1]/div/div[1]/div[1]/div[2]/div[2]/form/div/div/input\")\n",
    "loc4.send_keys(\"sunglasses\")\n",
    "button4=driver.find_element_by_class_name(\"L0Z3Pu\")\n",
    "button4.click()"
   ]
  },
  {
   "cell_type": "code",
   "execution_count": 112,
   "id": "d0f32cbd",
   "metadata": {},
   "outputs": [],
   "source": [
    "brand_title    =[]\n",
    "price_list      =[]\n",
    "description_list=[]\n",
    "discount_list   =[]"
   ]
  },
  {
   "cell_type": "code",
   "execution_count": 113,
   "id": "05aba27f",
   "metadata": {},
   "outputs": [
    {
     "name": "stderr",
     "output_type": "stream",
     "text": [
      "<ipython-input-113-9bb52da743c8>:1: DeprecationWarning: find_elements_by_* commands are deprecated. Please use find_elements() instead\n",
      "  brand = driver.find_elements_by_xpath(\"//div[@class='_2WkVRV']\")\n",
      "<ipython-input-113-9bb52da743c8>:2: DeprecationWarning: find_elements_by_* commands are deprecated. Please use find_elements() instead\n",
      "  descri= driver.find_elements_by_xpath(\"//a[@class='IRpwTa']\")\n",
      "<ipython-input-113-9bb52da743c8>:3: DeprecationWarning: find_elements_by_* commands are deprecated. Please use find_elements() instead\n",
      "  pri   = driver.find_elements_by_xpath(\"//div[@class='_30jeq3']\")\n",
      "<ipython-input-113-9bb52da743c8>:4: DeprecationWarning: find_elements_by_* commands are deprecated. Please use find_elements() instead\n",
      "  discount_tags= driver.find_elements_by_xpath(\"//div[@class='_3Ay6Sb']/span[1]\")\n"
     ]
    }
   ],
   "source": [
    "brand = driver.find_elements_by_xpath(\"//div[@class='_2WkVRV']\")\n",
    "descri= driver.find_elements_by_xpath(\"//a[@class='IRpwTa']\")\n",
    "pri   = driver.find_elements_by_xpath(\"//div[@class='_30jeq3']\")\n",
    "discount_tags= driver.find_elements_by_xpath(\"//div[@class='_3Ay6Sb']/span[1]\")\n"
   ]
  },
  {
   "cell_type": "code",
   "execution_count": 114,
   "id": "7c65d9e9",
   "metadata": {},
   "outputs": [],
   "source": [
    "for i in brand:\n",
    "        bname4 =i.text\n",
    "        brand_title.append(bname4)\n",
    "for i in descri:\n",
    "        descr4 =i.text\n",
    "        description_list.append(descr4)\n",
    "for i in pri:\n",
    "        priname4 =i.text\n",
    "        price_list.append(priname4)\n",
    "for i in discount_tags:\n",
    "        disnam4 =i.text\n",
    "        discount_list.append(disnam4)"
   ]
  },
  {
   "cell_type": "code",
   "execution_count": 115,
   "id": "d09a6de9",
   "metadata": {},
   "outputs": [
    {
     "name": "stdout",
     "output_type": "stream",
     "text": [
      "40 40 40 40\n"
     ]
    }
   ],
   "source": [
    "print(len(brand_title ),len(description_list),len(price_list),len(discount_list))"
   ]
  },
  {
   "cell_type": "code",
   "execution_count": 122,
   "id": "d5a4d36d",
   "metadata": {},
   "outputs": [],
   "source": [
    "flip4=pd.DataFrame({})\n",
    "flip4['Brand name']=brand_title\n",
    "flip4['Price']=price_list\n",
    "flip4['Description']=description_list\n",
    "flip4['discount']=discount_list\n",
    "\n"
   ]
  },
  {
   "cell_type": "code",
   "execution_count": 135,
   "id": "cc9fee1f",
   "metadata": {},
   "outputs": [
    {
     "name": "stdout",
     "output_type": "stream",
     "text": [
      "https://www.flipkart.com/search?q=sunglasses&otracker=search&otracker1=search&marketplace=FLIPKART&as-show=on&as=off&page=1\n",
      "https://www.flipkart.com/search?q=sunglasses&otracker=search&otracker1=search&marketplace=FLIPKART&as-show=on&as=off&page=3\n"
     ]
    },
    {
     "name": "stderr",
     "output_type": "stream",
     "text": [
      "<ipython-input-135-616e3079abe2>:1: DeprecationWarning: find_elements_by_* commands are deprecated. Please use find_elements() instead\n",
      "  urls=driver.find_elements_by_xpath(\"//a[@class='ge-49M']\")\n"
     ]
    }
   ],
   "source": [
    "urls=driver.find_elements_by_xpath(\"//a[@class='ge-49M']\")\n",
    "for i in urls[0:2]:\n",
    "    print(i.get_attribute('href'))"
   ]
  },
  {
   "cell_type": "code",
   "execution_count": 136,
   "id": "59ad8a3e",
   "metadata": {},
   "outputs": [],
   "source": [
    "url2='https://www.flipkart.com/search?q=sunglasses&otracker=search&otracker1=search&marketplace=FLIPKART&as-show=on&as=off&page=2'"
   ]
  },
  {
   "cell_type": "code",
   "execution_count": 137,
   "id": "5871986c",
   "metadata": {},
   "outputs": [],
   "source": [
    "driver.get(url2)\n",
    "brand_title2=[]\n",
    "price_list2=[]\n",
    "description_list2=[]\n",
    "discount_list2=[]"
   ]
  },
  {
   "cell_type": "code",
   "execution_count": 138,
   "id": "5c819799",
   "metadata": {},
   "outputs": [
    {
     "name": "stderr",
     "output_type": "stream",
     "text": [
      "<ipython-input-138-4a871a6d97b5>:1: DeprecationWarning: find_elements_by_* commands are deprecated. Please use find_elements() instead\n",
      "  brand2  = driver.find_elements_by_xpath(\"//div[@class='_2WkVRV']\")\n",
      "<ipython-input-138-4a871a6d97b5>:2: DeprecationWarning: find_elements_by_* commands are deprecated. Please use find_elements() instead\n",
      "  descri2 = driver.find_elements_by_xpath(\"//a[@class='IRpwTa']\")\n",
      "<ipython-input-138-4a871a6d97b5>:3: DeprecationWarning: find_elements_by_* commands are deprecated. Please use find_elements() instead\n",
      "  pri2    = driver.find_elements_by_xpath(\"//div[@class='_30jeq3']\")\n",
      "<ipython-input-138-4a871a6d97b5>:4: DeprecationWarning: find_elements_by_* commands are deprecated. Please use find_elements() instead\n",
      "  discount_tags2 = driver.find_elements_by_xpath(\"//div[@class='_3Ay6Sb']/span[1]\")\n"
     ]
    }
   ],
   "source": [
    "brand2  = driver.find_elements_by_xpath(\"//div[@class='_2WkVRV']\")\n",
    "descri2 = driver.find_elements_by_xpath(\"//a[@class='IRpwTa']\")\n",
    "pri2    = driver.find_elements_by_xpath(\"//div[@class='_30jeq3']\")\n",
    "discount_tags2 = driver.find_elements_by_xpath(\"//div[@class='_3Ay6Sb']/span[1]\")\n"
   ]
  },
  {
   "cell_type": "code",
   "execution_count": 139,
   "id": "052a3a35",
   "metadata": {},
   "outputs": [
    {
     "name": "stdout",
     "output_type": "stream",
     "text": [
      "40 40 40 40\n"
     ]
    }
   ],
   "source": [
    "for i in brand2:\n",
    "        bname=i.text\n",
    "        brand_title2.append(bname)        \n",
    "for i in descri2:\n",
    "        bname=i.text\n",
    "        description_list2.append(bname)        \n",
    "for i in pri2:\n",
    "        priname=i.text\n",
    "        price_list2.append(priname)        \n",
    "for i in discount_tags2:\n",
    "        disname=i.text\n",
    "        discount_list2.append(disname)\n",
    "print(len(brand_title2 ),len(description_list2),len(price_list2),len(discount_list2))        \n",
    "\n"
   ]
  },
  {
   "cell_type": "code",
   "execution_count": 143,
   "id": "ab33ad2e",
   "metadata": {},
   "outputs": [
    {
     "data": {
      "text/html": [
       "<div>\n",
       "<style scoped>\n",
       "    .dataframe tbody tr th:only-of-type {\n",
       "        vertical-align: middle;\n",
       "    }\n",
       "\n",
       "    .dataframe tbody tr th {\n",
       "        vertical-align: top;\n",
       "    }\n",
       "\n",
       "    .dataframe thead th {\n",
       "        text-align: right;\n",
       "    }\n",
       "</style>\n",
       "<table border=\"1\" class=\"dataframe\">\n",
       "  <thead>\n",
       "    <tr style=\"text-align: right;\">\n",
       "      <th></th>\n",
       "      <th>Brand name</th>\n",
       "      <th>Price</th>\n",
       "      <th>Description</th>\n",
       "      <th>discount</th>\n",
       "    </tr>\n",
       "  </thead>\n",
       "  <tbody>\n",
       "    <tr>\n",
       "      <th>0</th>\n",
       "      <td>SRPM</td>\n",
       "      <td>₹188</td>\n",
       "      <td>UV Protection Wayfarer Sunglasses (56)</td>\n",
       "      <td>85% off</td>\n",
       "    </tr>\n",
       "    <tr>\n",
       "      <th>1</th>\n",
       "      <td>PIRASO</td>\n",
       "      <td>₹212</td>\n",
       "      <td>UV Protection Aviator Sunglasses (54)</td>\n",
       "      <td>86% off</td>\n",
       "    </tr>\n",
       "    <tr>\n",
       "      <th>2</th>\n",
       "      <td>Elligator</td>\n",
       "      <td>₹248</td>\n",
       "      <td>UV Protection Round Sunglasses (54)</td>\n",
       "      <td>90% off</td>\n",
       "    </tr>\n",
       "    <tr>\n",
       "      <th>3</th>\n",
       "      <td>PIRASO</td>\n",
       "      <td>₹187</td>\n",
       "      <td>UV Protection Aviator Sunglasses (54)</td>\n",
       "      <td>88% off</td>\n",
       "    </tr>\n",
       "    <tr>\n",
       "      <th>4</th>\n",
       "      <td>New Specs</td>\n",
       "      <td>₹259</td>\n",
       "      <td>UV Protection Rectangular Sunglasses (Free Size)</td>\n",
       "      <td>87% off</td>\n",
       "    </tr>\n",
       "    <tr>\n",
       "      <th>...</th>\n",
       "      <td>...</td>\n",
       "      <td>...</td>\n",
       "      <td>...</td>\n",
       "      <td>...</td>\n",
       "    </tr>\n",
       "    <tr>\n",
       "      <th>75</th>\n",
       "      <td>PIRASO</td>\n",
       "      <td>₹187</td>\n",
       "      <td>UV Protection Aviator Sunglasses (54)</td>\n",
       "      <td>88% off</td>\n",
       "    </tr>\n",
       "    <tr>\n",
       "      <th>76</th>\n",
       "      <td>kingsunglasses</td>\n",
       "      <td>₹299</td>\n",
       "      <td>UV Protection, Night Vision Wayfarer Sunglasse...</td>\n",
       "      <td>82% off</td>\n",
       "    </tr>\n",
       "    <tr>\n",
       "      <th>77</th>\n",
       "      <td>Fastrack</td>\n",
       "      <td>₹639</td>\n",
       "      <td>Polarized Retro Square Sunglasses (Free Size)</td>\n",
       "      <td>20% off</td>\n",
       "    </tr>\n",
       "    <tr>\n",
       "      <th>78</th>\n",
       "      <td>kingsunglasses</td>\n",
       "      <td>₹211</td>\n",
       "      <td>UV Protection, Mirrored Round Sunglasses (54)</td>\n",
       "      <td>82% off</td>\n",
       "    </tr>\n",
       "    <tr>\n",
       "      <th>79</th>\n",
       "      <td>Fastrack</td>\n",
       "      <td>₹1,799</td>\n",
       "      <td>UV Protection Wayfarer Sunglasses (54)</td>\n",
       "      <td>10% off</td>\n",
       "    </tr>\n",
       "  </tbody>\n",
       "</table>\n",
       "<p>80 rows × 4 columns</p>\n",
       "</div>"
      ],
      "text/plain": [
       "        Brand name   Price                                        Description  \\\n",
       "0             SRPM    ₹188             UV Protection Wayfarer Sunglasses (56)   \n",
       "1           PIRASO    ₹212              UV Protection Aviator Sunglasses (54)   \n",
       "2        Elligator    ₹248                UV Protection Round Sunglasses (54)   \n",
       "3           PIRASO    ₹187              UV Protection Aviator Sunglasses (54)   \n",
       "4        New Specs    ₹259   UV Protection Rectangular Sunglasses (Free Size)   \n",
       "..             ...     ...                                                ...   \n",
       "75          PIRASO    ₹187              UV Protection Aviator Sunglasses (54)   \n",
       "76  kingsunglasses    ₹299  UV Protection, Night Vision Wayfarer Sunglasse...   \n",
       "77        Fastrack    ₹639      Polarized Retro Square Sunglasses (Free Size)   \n",
       "78  kingsunglasses    ₹211      UV Protection, Mirrored Round Sunglasses (54)   \n",
       "79        Fastrack  ₹1,799             UV Protection Wayfarer Sunglasses (54)   \n",
       "\n",
       "   discount  \n",
       "0   85% off  \n",
       "1   86% off  \n",
       "2   90% off  \n",
       "3   88% off  \n",
       "4   87% off  \n",
       "..      ...  \n",
       "75  88% off  \n",
       "76  82% off  \n",
       "77  20% off  \n",
       "78  82% off  \n",
       "79  10% off  \n",
       "\n",
       "[80 rows x 4 columns]"
      ]
     },
     "execution_count": 143,
     "metadata": {},
     "output_type": "execute_result"
    }
   ],
   "source": [
    "flip411=pd.DataFrame({})\n",
    "flip411['Brand name']=brand_title2\n",
    "flip411['Price']=price_list2\n",
    "flip411['Description']=description_list2\n",
    "flip411['discount']=discount_list2\n",
    "df3 = flip4.append(flip411, ignore_index=True)\n"
   ]
  },
  {
   "cell_type": "code",
   "execution_count": 144,
   "id": "8c1c9c64",
   "metadata": {},
   "outputs": [],
   "source": [
    "url3='https://www.flipkart.com/search?q=sunglasses&otracker=search&otracker1=search&marketplace=FLIPKART&as-show=on&as=off&page=3'"
   ]
  },
  {
   "cell_type": "code",
   "execution_count": 145,
   "id": "12ad0dda",
   "metadata": {},
   "outputs": [],
   "source": [
    "driver.get(url3)\n",
    "brand_title3=[]\n",
    "price_list3=[]\n",
    "description_list3=[]\n",
    "discount_list3=[]\n"
   ]
  },
  {
   "cell_type": "code",
   "execution_count": 147,
   "id": "9007043c",
   "metadata": {},
   "outputs": [
    {
     "name": "stderr",
     "output_type": "stream",
     "text": [
      "<ipython-input-147-2f161a036bf7>:1: DeprecationWarning: find_elements_by_* commands are deprecated. Please use find_elements() instead\n",
      "  brand3= driver.find_elements_by_xpath(\"//div[@class='_2WkVRV']\")\n",
      "<ipython-input-147-2f161a036bf7>:2: DeprecationWarning: find_elements_by_* commands are deprecated. Please use find_elements() instead\n",
      "  descri3= driver.find_elements_by_xpath(\"//a[@class='IRpwTa']\")\n",
      "<ipython-input-147-2f161a036bf7>:3: DeprecationWarning: find_elements_by_* commands are deprecated. Please use find_elements() instead\n",
      "  pri3= driver.find_elements_by_xpath(\"//div[@class='_30jeq3']\")\n",
      "<ipython-input-147-2f161a036bf7>:4: DeprecationWarning: find_elements_by_* commands are deprecated. Please use find_elements() instead\n",
      "  discount_tags3= driver.find_elements_by_xpath(\"//div[@class='_3Ay6Sb']/span[1]\")\n"
     ]
    },
    {
     "name": "stdout",
     "output_type": "stream",
     "text": [
      "20 20 20 20\n"
     ]
    }
   ],
   "source": [
    "brand3= driver.find_elements_by_xpath(\"//div[@class='_2WkVRV']\")\n",
    "descri3= driver.find_elements_by_xpath(\"//a[@class='IRpwTa']\")\n",
    "pri3= driver.find_elements_by_xpath(\"//div[@class='_30jeq3']\")\n",
    "discount_tags3= driver.find_elements_by_xpath(\"//div[@class='_3Ay6Sb']/span[1]\")\n",
    "\n",
    "for i in brand3:\n",
    "        bname=i.text\n",
    "        brand_title3.append(bname)\n",
    "brand_title3=brand_title3[:20]\n",
    "\n",
    "for i in descri3:\n",
    "        bname=i.text\n",
    "        description_list3.append(bname)\n",
    "description_list3=description_list3[:20]\n",
    "\n",
    "for i in pri3:\n",
    "        priname=i.text\n",
    "        price_list3.append(priname)\n",
    "price_list3=price_list3[:20]\n",
    "  \n",
    "for i in discount_tags3:\n",
    "        disname=i.text\n",
    "        discount_list3.append(disname)\n",
    "discount_list3=discount_list[:20]\n",
    "\n",
    "print(len(brand_title3 ),len(description_list3),len(price_list3),len(discount_list3))\n"
   ]
  },
  {
   "cell_type": "code",
   "execution_count": 148,
   "id": "f5b1e5f7",
   "metadata": {},
   "outputs": [
    {
     "data": {
      "text/html": [
       "<div>\n",
       "<style scoped>\n",
       "    .dataframe tbody tr th:only-of-type {\n",
       "        vertical-align: middle;\n",
       "    }\n",
       "\n",
       "    .dataframe tbody tr th {\n",
       "        vertical-align: top;\n",
       "    }\n",
       "\n",
       "    .dataframe thead th {\n",
       "        text-align: right;\n",
       "    }\n",
       "</style>\n",
       "<table border=\"1\" class=\"dataframe\">\n",
       "  <thead>\n",
       "    <tr style=\"text-align: right;\">\n",
       "      <th></th>\n",
       "      <th>Brand name</th>\n",
       "      <th>Price</th>\n",
       "      <th>Description</th>\n",
       "      <th>discount</th>\n",
       "    </tr>\n",
       "  </thead>\n",
       "  <tbody>\n",
       "    <tr>\n",
       "      <th>0</th>\n",
       "      <td>SRPM</td>\n",
       "      <td>₹188</td>\n",
       "      <td>UV Protection Wayfarer Sunglasses (56)</td>\n",
       "      <td>85% off</td>\n",
       "    </tr>\n",
       "    <tr>\n",
       "      <th>1</th>\n",
       "      <td>PIRASO</td>\n",
       "      <td>₹212</td>\n",
       "      <td>UV Protection Aviator Sunglasses (54)</td>\n",
       "      <td>86% off</td>\n",
       "    </tr>\n",
       "    <tr>\n",
       "      <th>2</th>\n",
       "      <td>Elligator</td>\n",
       "      <td>₹248</td>\n",
       "      <td>UV Protection Round Sunglasses (54)</td>\n",
       "      <td>90% off</td>\n",
       "    </tr>\n",
       "    <tr>\n",
       "      <th>3</th>\n",
       "      <td>PIRASO</td>\n",
       "      <td>₹187</td>\n",
       "      <td>UV Protection Aviator Sunglasses (54)</td>\n",
       "      <td>88% off</td>\n",
       "    </tr>\n",
       "    <tr>\n",
       "      <th>4</th>\n",
       "      <td>New Specs</td>\n",
       "      <td>₹259</td>\n",
       "      <td>UV Protection Rectangular Sunglasses (Free Size)</td>\n",
       "      <td>87% off</td>\n",
       "    </tr>\n",
       "    <tr>\n",
       "      <th>...</th>\n",
       "      <td>...</td>\n",
       "      <td>...</td>\n",
       "      <td>...</td>\n",
       "      <td>...</td>\n",
       "    </tr>\n",
       "    <tr>\n",
       "      <th>95</th>\n",
       "      <td>PIRASO</td>\n",
       "      <td>₹179</td>\n",
       "      <td>UV Protection Aviator Sunglasses (55)</td>\n",
       "      <td>88% off</td>\n",
       "    </tr>\n",
       "    <tr>\n",
       "      <th>96</th>\n",
       "      <td>ROYAL SON</td>\n",
       "      <td>₹664</td>\n",
       "      <td>UV Protection, Gradient Butterfly Sunglasses (57)</td>\n",
       "      <td>84% off</td>\n",
       "    </tr>\n",
       "    <tr>\n",
       "      <th>97</th>\n",
       "      <td>PHENOMENAL</td>\n",
       "      <td>₹287</td>\n",
       "      <td>UV Protection, Mirrored Clubmaster Sunglasses ...</td>\n",
       "      <td>85% off</td>\n",
       "    </tr>\n",
       "    <tr>\n",
       "      <th>98</th>\n",
       "      <td>AISLIN</td>\n",
       "      <td>₹446</td>\n",
       "      <td>UV Protection, Gradient Cat-eye Sunglasses (61)</td>\n",
       "      <td>64% off</td>\n",
       "    </tr>\n",
       "    <tr>\n",
       "      <th>99</th>\n",
       "      <td>ROZZETTA CRAFT</td>\n",
       "      <td>₹499</td>\n",
       "      <td>Polarized, Night Vision, Riding Glasses Sports...</td>\n",
       "      <td>88% off</td>\n",
       "    </tr>\n",
       "  </tbody>\n",
       "</table>\n",
       "<p>100 rows × 4 columns</p>\n",
       "</div>"
      ],
      "text/plain": [
       "        Brand name Price                                        Description  \\\n",
       "0             SRPM  ₹188             UV Protection Wayfarer Sunglasses (56)   \n",
       "1           PIRASO  ₹212              UV Protection Aviator Sunglasses (54)   \n",
       "2        Elligator  ₹248                UV Protection Round Sunglasses (54)   \n",
       "3           PIRASO  ₹187              UV Protection Aviator Sunglasses (54)   \n",
       "4        New Specs  ₹259   UV Protection Rectangular Sunglasses (Free Size)   \n",
       "..             ...   ...                                                ...   \n",
       "95          PIRASO  ₹179              UV Protection Aviator Sunglasses (55)   \n",
       "96       ROYAL SON  ₹664  UV Protection, Gradient Butterfly Sunglasses (57)   \n",
       "97      PHENOMENAL  ₹287  UV Protection, Mirrored Clubmaster Sunglasses ...   \n",
       "98          AISLIN  ₹446    UV Protection, Gradient Cat-eye Sunglasses (61)   \n",
       "99  ROZZETTA CRAFT  ₹499  Polarized, Night Vision, Riding Glasses Sports...   \n",
       "\n",
       "   discount  \n",
       "0   85% off  \n",
       "1   86% off  \n",
       "2   90% off  \n",
       "3   88% off  \n",
       "4   87% off  \n",
       "..      ...  \n",
       "95  88% off  \n",
       "96  84% off  \n",
       "97  85% off  \n",
       "98  64% off  \n",
       "99  88% off  \n",
       "\n",
       "[100 rows x 4 columns]"
      ]
     },
     "execution_count": 148,
     "metadata": {},
     "output_type": "execute_result"
    }
   ],
   "source": [
    "flip422=pd.DataFrame({})\n",
    "flip422['Brand name']=brand_title3\n",
    "flip422['Price']=price_list3\n",
    "flip422['Description']=description_list3\n",
    "flip422['discount']=discount_list3\n",
    "final = df3.append(flip422, ignore_index=True)\n",
    "final"
   ]
  },
  {
   "cell_type": "markdown",
   "id": "db382ddc",
   "metadata": {},
   "source": [
    "#### Here is the final 100 list."
   ]
  },
  {
   "cell_type": "markdown",
   "id": "ea66f6b7",
   "metadata": {},
   "source": [
    "## Que--5"
   ]
  },
  {
   "cell_type": "code",
   "execution_count": 10,
   "id": "ad3436fb",
   "metadata": {},
   "outputs": [
    {
     "name": "stderr",
     "output_type": "stream",
     "text": [
      "<ipython-input-10-25c4e55f26c2>:1: DeprecationWarning: executable_path has been deprecated, please pass in a Service object\n",
      "  driver = webdriver.Chrome(r\"D:\\agent\\oCT NEW\\chromedriver.exe\")\n"
     ]
    }
   ],
   "source": [
    "driver = webdriver.Chrome(r\"D:\\agent\\oCT NEW\\chromedriver.exe\")"
   ]
  },
  {
   "cell_type": "code",
   "execution_count": 11,
   "id": "75d6aa16",
   "metadata": {},
   "outputs": [],
   "source": [
    "url5='https://www.flipkart.com/apple-iphone-11-black-64-gb/product-reviews/itm4e5041ba101fd?pid=MOBFWQ6BXGJCEYNY&lid=LSTMOBFWQ6BXGJCEYNYZXSHRJ&marketplace=FLIPKART'\n",
    "driver.get(url5)"
   ]
  },
  {
   "cell_type": "code",
   "execution_count": 13,
   "id": "ca224ea7",
   "metadata": {},
   "outputs": [],
   "source": [
    "rating_title5_1=[]\n",
    "full_summary5_1=[]\n",
    "summary5_1=[]"
   ]
  },
  {
   "cell_type": "code",
   "execution_count": 14,
   "id": "7325d762",
   "metadata": {},
   "outputs": [
    {
     "name": "stderr",
     "output_type": "stream",
     "text": [
      "<ipython-input-14-b04124f9ea2a>:1: DeprecationWarning: find_elements_by_* commands are deprecated. Please use find_elements() instead\n",
      "  rating_tags= driver.find_elements_by_xpath(\"//div[@class='_3LWZlK _1BLPMq']\")\n",
      "<ipython-input-14-b04124f9ea2a>:2: DeprecationWarning: find_elements_by_* commands are deprecated. Please use find_elements() instead\n",
      "  summ_tags= driver.find_elements_by_xpath(\"//div[@class='t-ZTKy']\")\n",
      "<ipython-input-14-b04124f9ea2a>:3: DeprecationWarning: find_elements_by_* commands are deprecated. Please use find_elements() instead\n",
      "  shortsumm_tags= driver.find_elements_by_xpath(\"//p[@class='_2-N8zT']\")\n"
     ]
    },
    {
     "name": "stdout",
     "output_type": "stream",
     "text": [
      "10 10 10\n"
     ]
    }
   ],
   "source": [
    "rating_tags= driver.find_elements_by_xpath(\"//div[@class='_3LWZlK _1BLPMq']\")\n",
    "summ_tags= driver.find_elements_by_xpath(\"//div[@class='t-ZTKy']\")\n",
    "shortsumm_tags= driver.find_elements_by_xpath(\"//p[@class='_2-N8zT']\")\n",
    "\n",
    "for i in rating_tags:\n",
    "        bname=i.text\n",
    "        rating_title5_1.append(bname)\n",
    "for i in summ_tags:\n",
    "        info=i.text\n",
    "        full_summary5_1.append(info)\n",
    "for i in shortsumm_tags:\n",
    "        name=i.text\n",
    "        summary5_1.append(name)\n",
    "        \n",
    "print(len(summary5_1),len(full_summary5_1),len(rating_title5_1))\n",
    "\n"
   ]
  },
  {
   "cell_type": "code",
   "execution_count": 17,
   "id": "c7eae3a6",
   "metadata": {},
   "outputs": [
    {
     "data": {
      "text/html": [
       "<div>\n",
       "<style scoped>\n",
       "    .dataframe tbody tr th:only-of-type {\n",
       "        vertical-align: middle;\n",
       "    }\n",
       "\n",
       "    .dataframe tbody tr th {\n",
       "        vertical-align: top;\n",
       "    }\n",
       "\n",
       "    .dataframe thead th {\n",
       "        text-align: right;\n",
       "    }\n",
       "</style>\n",
       "<table border=\"1\" class=\"dataframe\">\n",
       "  <thead>\n",
       "    <tr style=\"text-align: right;\">\n",
       "      <th></th>\n",
       "      <th>product_summary</th>\n",
       "      <th>description</th>\n",
       "      <th>rating_title</th>\n",
       "    </tr>\n",
       "  </thead>\n",
       "  <tbody>\n",
       "    <tr>\n",
       "      <th>0</th>\n",
       "      <td>Brilliant</td>\n",
       "      <td>The Best Phone for the Money\\n\\nThe iPhone 11 ...</td>\n",
       "      <td>5</td>\n",
       "    </tr>\n",
       "    <tr>\n",
       "      <th>1</th>\n",
       "      <td>Simply awesome</td>\n",
       "      <td>Really satisfied with the Product I received.....</td>\n",
       "      <td>5</td>\n",
       "    </tr>\n",
       "    <tr>\n",
       "      <th>2</th>\n",
       "      <td>Best in the market!</td>\n",
       "      <td>Great iPhone very snappy experience as apple k...</td>\n",
       "      <td>5</td>\n",
       "    </tr>\n",
       "    <tr>\n",
       "      <th>3</th>\n",
       "      <td>Perfect product!</td>\n",
       "      <td>Amazing phone with great cameras and better ba...</td>\n",
       "      <td>5</td>\n",
       "    </tr>\n",
       "    <tr>\n",
       "      <th>4</th>\n",
       "      <td>Worth every penny</td>\n",
       "      <td>Previously I was using one plus 3t it was a gr...</td>\n",
       "      <td>5</td>\n",
       "    </tr>\n",
       "    <tr>\n",
       "      <th>5</th>\n",
       "      <td>Fabulous!</td>\n",
       "      <td>This is my first iOS phone. I am very happy wi...</td>\n",
       "      <td>5</td>\n",
       "    </tr>\n",
       "    <tr>\n",
       "      <th>6</th>\n",
       "      <td>Great product</td>\n",
       "      <td>Amazing Powerful and Durable Gadget.\\n\\nI’m am...</td>\n",
       "      <td>5</td>\n",
       "    </tr>\n",
       "    <tr>\n",
       "      <th>7</th>\n",
       "      <td>Worth every penny</td>\n",
       "      <td>i11 is worthy to buy, too much happy with the ...</td>\n",
       "      <td>5</td>\n",
       "    </tr>\n",
       "    <tr>\n",
       "      <th>8</th>\n",
       "      <td>Good choice</td>\n",
       "      <td>So far it’s been an AMAZING experience coming ...</td>\n",
       "      <td>4</td>\n",
       "    </tr>\n",
       "    <tr>\n",
       "      <th>9</th>\n",
       "      <td>Highly recommended</td>\n",
       "      <td>What a camera .....just awesome ..you can feel...</td>\n",
       "      <td>5</td>\n",
       "    </tr>\n",
       "  </tbody>\n",
       "</table>\n",
       "</div>"
      ],
      "text/plain": [
       "       product_summary                                        description  \\\n",
       "0            Brilliant  The Best Phone for the Money\\n\\nThe iPhone 11 ...   \n",
       "1       Simply awesome  Really satisfied with the Product I received.....   \n",
       "2  Best in the market!  Great iPhone very snappy experience as apple k...   \n",
       "3     Perfect product!  Amazing phone with great cameras and better ba...   \n",
       "4    Worth every penny  Previously I was using one plus 3t it was a gr...   \n",
       "5            Fabulous!  This is my first iOS phone. I am very happy wi...   \n",
       "6        Great product  Amazing Powerful and Durable Gadget.\\n\\nI’m am...   \n",
       "7    Worth every penny  i11 is worthy to buy, too much happy with the ...   \n",
       "8          Good choice  So far it’s been an AMAZING experience coming ...   \n",
       "9   Highly recommended  What a camera .....just awesome ..you can feel...   \n",
       "\n",
       "  rating_title  \n",
       "0            5  \n",
       "1            5  \n",
       "2            5  \n",
       "3            5  \n",
       "4            5  \n",
       "5            5  \n",
       "6            5  \n",
       "7            5  \n",
       "8            4  \n",
       "9            5  "
      ]
     },
     "execution_count": 17,
     "metadata": {},
     "output_type": "execute_result"
    }
   ],
   "source": [
    "df=pd.DataFrame({'product_summary':summary5_1,'description':full_summary5_1,'rating_title': rating_title5_1})\n",
    "df"
   ]
  },
  {
   "cell_type": "code",
   "execution_count": 19,
   "id": "089a2eba",
   "metadata": {},
   "outputs": [
    {
     "name": "stdout",
     "output_type": "stream",
     "text": [
      "https://www.flipkart.com/apple-iphone-11-black-64-gb/product-reviews/itm4e5041ba101fd?pid=MOBFWQ6BXGJCEYNY&lid=LSTMOBFWQ6BXGJCEYNYZXSHRJ&marketplace=FLIPKART&page=2\n",
      "https://www.flipkart.com/apple-iphone-11-black-64-gb/product-reviews/itm4e5041ba101fd?pid=MOBFWQ6BXGJCEYNY&lid=LSTMOBFWQ6BXGJCEYNYZXSHRJ&marketplace=FLIPKART&page=3\n",
      "https://www.flipkart.com/apple-iphone-11-black-64-gb/product-reviews/itm4e5041ba101fd?pid=MOBFWQ6BXGJCEYNY&lid=LSTMOBFWQ6BXGJCEYNYZXSHRJ&marketplace=FLIPKART&page=4\n",
      "https://www.flipkart.com/apple-iphone-11-black-64-gb/product-reviews/itm4e5041ba101fd?pid=MOBFWQ6BXGJCEYNY&lid=LSTMOBFWQ6BXGJCEYNYZXSHRJ&marketplace=FLIPKART&page=5\n",
      "https://www.flipkart.com/apple-iphone-11-black-64-gb/product-reviews/itm4e5041ba101fd?pid=MOBFWQ6BXGJCEYNY&lid=LSTMOBFWQ6BXGJCEYNYZXSHRJ&marketplace=FLIPKART&page=6\n",
      "https://www.flipkart.com/apple-iphone-11-black-64-gb/product-reviews/itm4e5041ba101fd?pid=MOBFWQ6BXGJCEYNY&lid=LSTMOBFWQ6BXGJCEYNYZXSHRJ&marketplace=FLIPKART&page=7\n",
      "https://www.flipkart.com/apple-iphone-11-black-64-gb/product-reviews/itm4e5041ba101fd?pid=MOBFWQ6BXGJCEYNY&lid=LSTMOBFWQ6BXGJCEYNYZXSHRJ&marketplace=FLIPKART&page=8\n",
      "https://www.flipkart.com/apple-iphone-11-black-64-gb/product-reviews/itm4e5041ba101fd?pid=MOBFWQ6BXGJCEYNY&lid=LSTMOBFWQ6BXGJCEYNYZXSHRJ&marketplace=FLIPKART&page=9\n",
      "https://www.flipkart.com/apple-iphone-11-black-64-gb/product-reviews/itm4e5041ba101fd?pid=MOBFWQ6BXGJCEYNY&lid=LSTMOBFWQ6BXGJCEYNYZXSHRJ&marketplace=FLIPKART&page=10\n"
     ]
    },
    {
     "name": "stderr",
     "output_type": "stream",
     "text": [
      "<ipython-input-19-a3c48d8ba3b8>:1: DeprecationWarning: find_elements_by_* commands are deprecated. Please use find_elements() instead\n",
      "  urls=driver.find_elements_by_xpath(\"//a[@class='ge-49M']\")\n"
     ]
    }
   ],
   "source": [
    "urls=driver.find_elements_by_xpath(\"//a[@class='ge-49M']\")\n",
    "for i in urls:\n",
    "    print(i.get_attribute('href'))"
   ]
  },
  {
   "cell_type": "code",
   "execution_count": 20,
   "id": "167bd8a0",
   "metadata": {},
   "outputs": [],
   "source": [
    "pgurl2='https://www.flipkart.com/apple-iphone-11-black-64-gb/product-reviews/itm4e5041ba101fd?pid=MOBFWQ6BXGJCEYNY&lid=LSTMOBFWQ6BXGJCEYNYZXSHRJ&marketplace=FLIPKART&page=2'\n",
    "pgurl3='https://www.flipkart.com/apple-iphone-11-black-64-gb/product-reviews/itm4e5041ba101fd?pid=MOBFWQ6BXGJCEYNY&lid=LSTMOBFWQ6BXGJCEYNYZXSHRJ&marketplace=FLIPKART&page=3'\n",
    "pgurl4='https://www.flipkart.com/apple-iphone-11-black-64-gb/product-reviews/itm4e5041ba101fd?pid=MOBFWQ6BXGJCEYNY&lid=LSTMOBFWQ6BXGJCEYNYZXSHRJ&marketplace=FLIPKART&page=4'\n",
    "pgurl5='https://www.flipkart.com/apple-iphone-11-black-64-gb/product-reviews/itm4e5041ba101fd?pid=MOBFWQ6BXGJCEYNY&lid=LSTMOBFWQ6BXGJCEYNYZXSHRJ&marketplace=FLIPKART&page=5'\n",
    "pgurl6='https://www.flipkart.com/apple-iphone-11-black-64-gb/product-reviews/itm4e5041ba101fd?pid=MOBFWQ6BXGJCEYNY&lid=LSTMOBFWQ6BXGJCEYNYZXSHRJ&marketplace=FLIPKART&page=6'\n",
    "pgurl7='https://www.flipkart.com/apple-iphone-11-black-64-gb/product-reviews/itm4e5041ba101fd?pid=MOBFWQ6BXGJCEYNY&lid=LSTMOBFWQ6BXGJCEYNYZXSHRJ&marketplace=FLIPKART&page=7'\n",
    "pgurl8='https://www.flipkart.com/apple-iphone-11-black-64-gb/product-reviews/itm4e5041ba101fd?pid=MOBFWQ6BXGJCEYNY&lid=LSTMOBFWQ6BXGJCEYNYZXSHRJ&marketplace=FLIPKART&page=8'\n",
    "pgurl9='https://www.flipkart.com/apple-iphone-11-black-64-gb/product-reviews/itm4e5041ba101fd?pid=MOBFWQ6BXGJCEYNY&lid=LSTMOBFWQ6BXGJCEYNYZXSHRJ&marketplace=FLIPKART&page=9'\n",
    "pgurl10='https://www.flipkart.com/apple-iphone-11-black-64-gb/product-reviews/itm4e5041ba101fd?pid=MOBFWQ6BXGJCEYNY&lid=LSTMOBFWQ6BXGJCEYNYZXSHRJ&marketplace=FLIPKART&page=10'"
   ]
  },
  {
   "cell_type": "code",
   "execution_count": 21,
   "id": "4a4be84b",
   "metadata": {},
   "outputs": [],
   "source": [
    "rating_title2=[]\n",
    "full_summary2=[]\n",
    "summary2=[]\n",
    "rating_title3=[]\n",
    "full_summary3=[]\n",
    "summary3=[]\n",
    "rating_title4=[]\n",
    "full_summary4=[]\n",
    "summary4=[]\n",
    "rating_title5=[]\n",
    "full_summary5=[]\n",
    "summary5=[]\n",
    "rating_title6=[]\n",
    "full_summary6=[]\n",
    "summary6=[]\n",
    "rating_title7=[]\n",
    "full_summary7=[]\n",
    "summary7=[]\n",
    "rating_title8=[]\n",
    "full_summary8=[]\n",
    "summary8=[]\n",
    "rating_title9=[]\n",
    "full_summary9=[]\n",
    "summary9=[]\n",
    "rating_title10=[]\n",
    "full_summary10=[]\n",
    "summary10=[]"
   ]
  },
  {
   "cell_type": "code",
   "execution_count": 22,
   "id": "0bd9e982",
   "metadata": {},
   "outputs": [],
   "source": [
    "driver.get(pgurl2)"
   ]
  },
  {
   "cell_type": "code",
   "execution_count": 25,
   "id": "df82672e",
   "metadata": {},
   "outputs": [
    {
     "name": "stderr",
     "output_type": "stream",
     "text": [
      "<ipython-input-25-e5fd44480d9d>:1: DeprecationWarning: find_elements_by_* commands are deprecated. Please use find_elements() instead\n",
      "  rating_tags2= driver.find_elements_by_xpath(\"//div[@class='_3LWZlK _1BLPMq']\")\n",
      "<ipython-input-25-e5fd44480d9d>:6: DeprecationWarning: find_elements_by_* commands are deprecated. Please use find_elements() instead\n",
      "  summ_tags2= driver.find_elements_by_xpath(\"//div[@class='t-ZTKy']\")\n",
      "<ipython-input-25-e5fd44480d9d>:11: DeprecationWarning: find_elements_by_* commands are deprecated. Please use find_elements() instead\n",
      "  shortsumm_tags2= driver.find_elements_by_xpath(\"//p[@class='_2-N8zT']\")\n"
     ]
    }
   ],
   "source": [
    "rating_tags2= driver.find_elements_by_xpath(\"//div[@class='_3LWZlK _1BLPMq']\")\n",
    "for i in rating_tags2:\n",
    "        bname=i.text\n",
    "        rating_title2.append(bname)\n",
    "\n",
    "        summ_tags2= driver.find_elements_by_xpath(\"//div[@class='t-ZTKy']\")\n",
    "for i in summ_tags2:\n",
    "        info=i.text\n",
    "        full_summary2.append(info)\n",
    "        \n",
    "        shortsumm_tags2= driver.find_elements_by_xpath(\"//p[@class='_2-N8zT']\")\n",
    "for i in shortsumm_tags2:\n",
    "        name=i.text\n",
    "        summary2.append(name)\n",
    "        \n",
    "        "
   ]
  },
  {
   "cell_type": "code",
   "execution_count": 24,
   "id": "33b8e414",
   "metadata": {},
   "outputs": [
    {
     "data": {
      "text/html": [
       "<div>\n",
       "<style scoped>\n",
       "    .dataframe tbody tr th:only-of-type {\n",
       "        vertical-align: middle;\n",
       "    }\n",
       "\n",
       "    .dataframe tbody tr th {\n",
       "        vertical-align: top;\n",
       "    }\n",
       "\n",
       "    .dataframe thead th {\n",
       "        text-align: right;\n",
       "    }\n",
       "</style>\n",
       "<table border=\"1\" class=\"dataframe\">\n",
       "  <thead>\n",
       "    <tr style=\"text-align: right;\">\n",
       "      <th></th>\n",
       "      <th>product_summary</th>\n",
       "      <th>description</th>\n",
       "      <th>rating_title</th>\n",
       "    </tr>\n",
       "  </thead>\n",
       "  <tbody>\n",
       "    <tr>\n",
       "      <th>0</th>\n",
       "      <td>Highly recommended</td>\n",
       "      <td>iphone 11 is a very good phone to buy only if ...</td>\n",
       "      <td>5</td>\n",
       "    </tr>\n",
       "    <tr>\n",
       "      <th>1</th>\n",
       "      <td>Perfect product!</td>\n",
       "      <td>It’s a must buy who is looking for an upgrade ...</td>\n",
       "      <td>5</td>\n",
       "    </tr>\n",
       "    <tr>\n",
       "      <th>2</th>\n",
       "      <td>Perfect product!</td>\n",
       "      <td>Value for money❤️❤️\\nIts awesome mobile phone ...</td>\n",
       "      <td>5</td>\n",
       "    </tr>\n",
       "    <tr>\n",
       "      <th>3</th>\n",
       "      <td>Classy product</td>\n",
       "      <td>Totally in love with this ❤ the camera quality...</td>\n",
       "      <td>5</td>\n",
       "    </tr>\n",
       "    <tr>\n",
       "      <th>4</th>\n",
       "      <td>Perfect product!</td>\n",
       "      <td>Iphone is just awesome.. battery backup is ver...</td>\n",
       "      <td>5</td>\n",
       "    </tr>\n",
       "    <tr>\n",
       "      <th>5</th>\n",
       "      <td>Worth every penny</td>\n",
       "      <td>Best budget Iphone till date ❤️ go for it guys...</td>\n",
       "      <td>5</td>\n",
       "    </tr>\n",
       "    <tr>\n",
       "      <th>6</th>\n",
       "      <td>Simply awesome</td>\n",
       "      <td>Excellent camera, good performance, no lag. Th...</td>\n",
       "      <td>5</td>\n",
       "    </tr>\n",
       "    <tr>\n",
       "      <th>7</th>\n",
       "      <td>Highly recommended</td>\n",
       "      <td>It's my first time to use iOS phone and I am l...</td>\n",
       "      <td>5</td>\n",
       "    </tr>\n",
       "    <tr>\n",
       "      <th>8</th>\n",
       "      <td>Worth every penny</td>\n",
       "      <td>It’s been almost a month since I have been usi...</td>\n",
       "      <td>5</td>\n",
       "    </tr>\n",
       "    <tr>\n",
       "      <th>9</th>\n",
       "      <td>Worth every penny</td>\n",
       "      <td>Smooth like butter, camera like fantabulous, s...</td>\n",
       "      <td>5</td>\n",
       "    </tr>\n",
       "  </tbody>\n",
       "</table>\n",
       "</div>"
      ],
      "text/plain": [
       "      product_summary                                        description  \\\n",
       "0  Highly recommended  iphone 11 is a very good phone to buy only if ...   \n",
       "1    Perfect product!  It’s a must buy who is looking for an upgrade ...   \n",
       "2    Perfect product!  Value for money❤️❤️\\nIts awesome mobile phone ...   \n",
       "3      Classy product  Totally in love with this ❤ the camera quality...   \n",
       "4    Perfect product!  Iphone is just awesome.. battery backup is ver...   \n",
       "5   Worth every penny  Best budget Iphone till date ❤️ go for it guys...   \n",
       "6      Simply awesome  Excellent camera, good performance, no lag. Th...   \n",
       "7  Highly recommended  It's my first time to use iOS phone and I am l...   \n",
       "8   Worth every penny  It’s been almost a month since I have been usi...   \n",
       "9   Worth every penny  Smooth like butter, camera like fantabulous, s...   \n",
       "\n",
       "  rating_title  \n",
       "0            5  \n",
       "1            5  \n",
       "2            5  \n",
       "3            5  \n",
       "4            5  \n",
       "5            5  \n",
       "6            5  \n",
       "7            5  \n",
       "8            5  \n",
       "9            5  "
      ]
     },
     "execution_count": 24,
     "metadata": {},
     "output_type": "execute_result"
    }
   ],
   "source": [
    "df2=pd.DataFrame({'product_summary':summary2,'description':full_summary2,'rating_title': rating_title2})\n",
    "df2  "
   ]
  },
  {
   "cell_type": "code",
   "execution_count": 26,
   "id": "542b0bb3",
   "metadata": {},
   "outputs": [],
   "source": [
    "driver.get(pgurl3)"
   ]
  },
  {
   "cell_type": "code",
   "execution_count": 27,
   "id": "df718cb8",
   "metadata": {},
   "outputs": [
    {
     "name": "stderr",
     "output_type": "stream",
     "text": [
      "<ipython-input-27-443af692ef63>:1: DeprecationWarning: find_elements_by_* commands are deprecated. Please use find_elements() instead\n",
      "  rating_tags3= driver.find_elements_by_xpath(\"//div[@class='_3LWZlK _1BLPMq']\")\n",
      "<ipython-input-27-443af692ef63>:6: DeprecationWarning: find_elements_by_* commands are deprecated. Please use find_elements() instead\n",
      "  summ_tags3= driver.find_elements_by_xpath(\"//div[@class='t-ZTKy']\")\n",
      "<ipython-input-27-443af692ef63>:11: DeprecationWarning: find_elements_by_* commands are deprecated. Please use find_elements() instead\n",
      "  shortsumm_tags3= driver.find_elements_by_xpath(\"//p[@class='_2-N8zT']\")\n"
     ]
    }
   ],
   "source": [
    "rating_tags3= driver.find_elements_by_xpath(\"//div[@class='_3LWZlK _1BLPMq']\")\n",
    "for i in rating_tags3:\n",
    "        bname=i.text\n",
    "        rating_title3.append(bname)\n",
    "\n",
    "        summ_tags3= driver.find_elements_by_xpath(\"//div[@class='t-ZTKy']\")\n",
    "for i in summ_tags3:\n",
    "        info=i.text\n",
    "        full_summary3.append(info)\n",
    "        \n",
    "        shortsumm_tags3= driver.find_elements_by_xpath(\"//p[@class='_2-N8zT']\")\n",
    "for i in shortsumm_tags3:\n",
    "        name=i.text\n",
    "        summary3.append(name)\n",
    "        \n",
    "        "
   ]
  },
  {
   "cell_type": "code",
   "execution_count": 28,
   "id": "b658f9a1",
   "metadata": {},
   "outputs": [
    {
     "data": {
      "text/html": [
       "<div>\n",
       "<style scoped>\n",
       "    .dataframe tbody tr th:only-of-type {\n",
       "        vertical-align: middle;\n",
       "    }\n",
       "\n",
       "    .dataframe tbody tr th {\n",
       "        vertical-align: top;\n",
       "    }\n",
       "\n",
       "    .dataframe thead th {\n",
       "        text-align: right;\n",
       "    }\n",
       "</style>\n",
       "<table border=\"1\" class=\"dataframe\">\n",
       "  <thead>\n",
       "    <tr style=\"text-align: right;\">\n",
       "      <th></th>\n",
       "      <th>product_summary</th>\n",
       "      <th>description</th>\n",
       "      <th>rating_title</th>\n",
       "    </tr>\n",
       "  </thead>\n",
       "  <tbody>\n",
       "    <tr>\n",
       "      <th>0</th>\n",
       "      <td>Terrific</td>\n",
       "      <td>Really worth of money. i just love it. It is t...</td>\n",
       "      <td>5</td>\n",
       "    </tr>\n",
       "    <tr>\n",
       "      <th>1</th>\n",
       "      <td>Wonderful</td>\n",
       "      <td>This is my first ever I phone. Before this I w...</td>\n",
       "      <td>5</td>\n",
       "    </tr>\n",
       "    <tr>\n",
       "      <th>2</th>\n",
       "      <td>Nice product</td>\n",
       "      <td>Awesome Phone. Slightly high price but worth. ...</td>\n",
       "      <td>4</td>\n",
       "    </tr>\n",
       "    <tr>\n",
       "      <th>3</th>\n",
       "      <td>Perfect product!</td>\n",
       "      <td>Battery backup is extraordinary, camera is dec...</td>\n",
       "      <td>5</td>\n",
       "    </tr>\n",
       "    <tr>\n",
       "      <th>4</th>\n",
       "      <td>Brilliant</td>\n",
       "      <td>I have migrated from OP 7pro... and trust me, ...</td>\n",
       "      <td>5</td>\n",
       "    </tr>\n",
       "    <tr>\n",
       "      <th>5</th>\n",
       "      <td>Classy product</td>\n",
       "      <td>Superb Product !!!\\nA big and worthy upgrade f...</td>\n",
       "      <td>5</td>\n",
       "    </tr>\n",
       "    <tr>\n",
       "      <th>6</th>\n",
       "      <td>Must buy!</td>\n",
       "      <td>It’s an amazing product from apple and the cam...</td>\n",
       "      <td>5</td>\n",
       "    </tr>\n",
       "    <tr>\n",
       "      <th>7</th>\n",
       "      <td>Good choice</td>\n",
       "      <td>Looking so good 👍 😍 super 👌 stylish 😎 phone\\nC...</td>\n",
       "      <td>4</td>\n",
       "    </tr>\n",
       "    <tr>\n",
       "      <th>8</th>\n",
       "      <td>Wonderful</td>\n",
       "      <td>I just directly switch from iphone 6s to iphon...</td>\n",
       "      <td>5</td>\n",
       "    </tr>\n",
       "    <tr>\n",
       "      <th>9</th>\n",
       "      <td>Perfect product!</td>\n",
       "      <td>After 1 month use I found camera quality best ...</td>\n",
       "      <td>5</td>\n",
       "    </tr>\n",
       "  </tbody>\n",
       "</table>\n",
       "</div>"
      ],
      "text/plain": [
       "    product_summary                                        description  \\\n",
       "0          Terrific  Really worth of money. i just love it. It is t...   \n",
       "1         Wonderful  This is my first ever I phone. Before this I w...   \n",
       "2      Nice product  Awesome Phone. Slightly high price but worth. ...   \n",
       "3  Perfect product!  Battery backup is extraordinary, camera is dec...   \n",
       "4         Brilliant  I have migrated from OP 7pro... and trust me, ...   \n",
       "5    Classy product  Superb Product !!!\\nA big and worthy upgrade f...   \n",
       "6         Must buy!  It’s an amazing product from apple and the cam...   \n",
       "7       Good choice  Looking so good 👍 😍 super 👌 stylish 😎 phone\\nC...   \n",
       "8         Wonderful  I just directly switch from iphone 6s to iphon...   \n",
       "9  Perfect product!  After 1 month use I found camera quality best ...   \n",
       "\n",
       "  rating_title  \n",
       "0            5  \n",
       "1            5  \n",
       "2            4  \n",
       "3            5  \n",
       "4            5  \n",
       "5            5  \n",
       "6            5  \n",
       "7            4  \n",
       "8            5  \n",
       "9            5  "
      ]
     },
     "execution_count": 28,
     "metadata": {},
     "output_type": "execute_result"
    }
   ],
   "source": [
    "df3=pd.DataFrame({'product_summary':summary3,'description':full_summary3,'rating_title': rating_title3})\n",
    "df3  "
   ]
  },
  {
   "cell_type": "code",
   "execution_count": 31,
   "id": "9aea7fb0",
   "metadata": {},
   "outputs": [],
   "source": [
    "driver.get(pgurl4)"
   ]
  },
  {
   "cell_type": "code",
   "execution_count": 32,
   "id": "1bca2416",
   "metadata": {},
   "outputs": [
    {
     "name": "stderr",
     "output_type": "stream",
     "text": [
      "<ipython-input-32-aea2264d16fa>:1: DeprecationWarning: find_elements_by_* commands are deprecated. Please use find_elements() instead\n",
      "  summ_tags4= driver.find_elements_by_xpath(\"//div[@class='t-ZTKy']\")\n",
      "<ipython-input-32-aea2264d16fa>:6: DeprecationWarning: find_elements_by_* commands are deprecated. Please use find_elements() instead\n",
      "  shortsumm_tags4= driver.find_elements_by_xpath(\"//p[@class='_2-N8zT']\")\n",
      "<ipython-input-32-aea2264d16fa>:10: DeprecationWarning: find_elements_by_* commands are deprecated. Please use find_elements() instead\n",
      "  rat = driver.find_elements_by_xpath(\"//div[@class='_3LWZlK _1BLPMq' or @class='_3LWZlK _1rdVr6 _1BLPMq']\")\n"
     ]
    }
   ],
   "source": [
    "summ_tags4= driver.find_elements_by_xpath(\"//div[@class='t-ZTKy']\")\n",
    "for i in summ_tags4:\n",
    "        info=i.text\n",
    "        full_summary4.append(info)\n",
    "        \n",
    "        shortsumm_tags4= driver.find_elements_by_xpath(\"//p[@class='_2-N8zT']\")\n",
    "for i in shortsumm_tags4:\n",
    "        name=i.text\n",
    "        summary4.append(name)\n",
    "rat = driver.find_elements_by_xpath(\"//div[@class='_3LWZlK _1BLPMq' or @class='_3LWZlK _1rdVr6 _1BLPMq']\") \n",
    "for i in rat:\n",
    "        bame=i.text\n",
    "        rating_title4.append(bame)\n"
   ]
  },
  {
   "cell_type": "code",
   "execution_count": 33,
   "id": "a74f91c5",
   "metadata": {},
   "outputs": [
    {
     "data": {
      "text/html": [
       "<div>\n",
       "<style scoped>\n",
       "    .dataframe tbody tr th:only-of-type {\n",
       "        vertical-align: middle;\n",
       "    }\n",
       "\n",
       "    .dataframe tbody tr th {\n",
       "        vertical-align: top;\n",
       "    }\n",
       "\n",
       "    .dataframe thead th {\n",
       "        text-align: right;\n",
       "    }\n",
       "</style>\n",
       "<table border=\"1\" class=\"dataframe\">\n",
       "  <thead>\n",
       "    <tr style=\"text-align: right;\">\n",
       "      <th></th>\n",
       "      <th>product_summary</th>\n",
       "      <th>description</th>\n",
       "      <th>rating_title</th>\n",
       "    </tr>\n",
       "  </thead>\n",
       "  <tbody>\n",
       "    <tr>\n",
       "      <th>0</th>\n",
       "      <td>Terrific purchase</td>\n",
       "      <td>Upgraded from iphone 6 to 11 best phone for ip...</td>\n",
       "      <td>5</td>\n",
       "    </tr>\n",
       "    <tr>\n",
       "      <th>1</th>\n",
       "      <td>Simply awesome</td>\n",
       "      <td>It's very high performances devise i am like t...</td>\n",
       "      <td>5</td>\n",
       "    </tr>\n",
       "    <tr>\n",
       "      <th>2</th>\n",
       "      <td>Great product</td>\n",
       "      <td>Well you all know the specifications . One of ...</td>\n",
       "      <td>5</td>\n",
       "    </tr>\n",
       "    <tr>\n",
       "      <th>3</th>\n",
       "      <td>Terrific purchase</td>\n",
       "      <td>The built quality is not very premium.\\nThe ba...</td>\n",
       "      <td>5</td>\n",
       "    </tr>\n",
       "    <tr>\n",
       "      <th>4</th>\n",
       "      <td>Mind-blowing purchase</td>\n",
       "      <td>This will help you more. See if you are planni...</td>\n",
       "      <td>5</td>\n",
       "    </tr>\n",
       "    <tr>\n",
       "      <th>5</th>\n",
       "      <td>Excellent</td>\n",
       "      <td>Amazing camera and feel super machine I am not...</td>\n",
       "      <td>5</td>\n",
       "    </tr>\n",
       "    <tr>\n",
       "      <th>6</th>\n",
       "      <td>Simply awesome</td>\n",
       "      <td>Really good actually this is my first apple pr...</td>\n",
       "      <td>5</td>\n",
       "    </tr>\n",
       "    <tr>\n",
       "      <th>7</th>\n",
       "      <td>Good quality product</td>\n",
       "      <td>it is very good at performance. Camera is best...</td>\n",
       "      <td>4</td>\n",
       "    </tr>\n",
       "    <tr>\n",
       "      <th>8</th>\n",
       "      <td>Very poor</td>\n",
       "      <td>Reviewing again after 5 months. At the beginni...</td>\n",
       "      <td>1</td>\n",
       "    </tr>\n",
       "    <tr>\n",
       "      <th>9</th>\n",
       "      <td>Classy product</td>\n",
       "      <td>We are on apple ecosystem for almost eight yea...</td>\n",
       "      <td>5</td>\n",
       "    </tr>\n",
       "  </tbody>\n",
       "</table>\n",
       "</div>"
      ],
      "text/plain": [
       "         product_summary                                        description  \\\n",
       "0      Terrific purchase  Upgraded from iphone 6 to 11 best phone for ip...   \n",
       "1         Simply awesome  It's very high performances devise i am like t...   \n",
       "2          Great product  Well you all know the specifications . One of ...   \n",
       "3      Terrific purchase  The built quality is not very premium.\\nThe ba...   \n",
       "4  Mind-blowing purchase  This will help you more. See if you are planni...   \n",
       "5              Excellent  Amazing camera and feel super machine I am not...   \n",
       "6         Simply awesome  Really good actually this is my first apple pr...   \n",
       "7   Good quality product  it is very good at performance. Camera is best...   \n",
       "8              Very poor  Reviewing again after 5 months. At the beginni...   \n",
       "9         Classy product  We are on apple ecosystem for almost eight yea...   \n",
       "\n",
       "  rating_title  \n",
       "0            5  \n",
       "1            5  \n",
       "2            5  \n",
       "3            5  \n",
       "4            5  \n",
       "5            5  \n",
       "6            5  \n",
       "7            4  \n",
       "8            1  \n",
       "9            5  "
      ]
     },
     "execution_count": 33,
     "metadata": {},
     "output_type": "execute_result"
    }
   ],
   "source": [
    "df4=pd.DataFrame({'product_summary':summary4,'description':full_summary4,'rating_title': rating_title4})\n",
    "df4  "
   ]
  },
  {
   "cell_type": "code",
   "execution_count": 34,
   "id": "10e298bd",
   "metadata": {},
   "outputs": [],
   "source": [
    "driver.get(pgurl5)"
   ]
  },
  {
   "cell_type": "code",
   "execution_count": 35,
   "id": "139d90f4",
   "metadata": {},
   "outputs": [
    {
     "name": "stderr",
     "output_type": "stream",
     "text": [
      "<ipython-input-35-82a687b0ac42>:1: DeprecationWarning: find_elements_by_* commands are deprecated. Please use find_elements() instead\n",
      "  rating_tags5= driver.find_elements_by_xpath(\"//div[@class='_3LWZlK _1BLPMq']\")\n",
      "<ipython-input-35-82a687b0ac42>:6: DeprecationWarning: find_elements_by_* commands are deprecated. Please use find_elements() instead\n",
      "  summ_tags5= driver.find_elements_by_xpath(\"//div[@class='t-ZTKy']\")\n",
      "<ipython-input-35-82a687b0ac42>:11: DeprecationWarning: find_elements_by_* commands are deprecated. Please use find_elements() instead\n",
      "  shortsumm_tags5= driver.find_elements_by_xpath(\"//p[@class='_2-N8zT']\")\n"
     ]
    }
   ],
   "source": [
    "rating_tags5= driver.find_elements_by_xpath(\"//div[@class='_3LWZlK _1BLPMq']\")\n",
    "for i in rating_tags5:\n",
    "        bname=i.text\n",
    "        rating_title5.append(bname)\n",
    "\n",
    "        summ_tags5= driver.find_elements_by_xpath(\"//div[@class='t-ZTKy']\")\n",
    "for i in summ_tags5:\n",
    "        info=i.text\n",
    "        full_summary5.append(info)\n",
    "        \n",
    "        shortsumm_tags5= driver.find_elements_by_xpath(\"//p[@class='_2-N8zT']\")\n",
    "for i in shortsumm_tags5:\n",
    "        name=i.text\n",
    "        summary5.append(name)"
   ]
  },
  {
   "cell_type": "code",
   "execution_count": 36,
   "id": "977737a0",
   "metadata": {},
   "outputs": [
    {
     "data": {
      "text/html": [
       "<div>\n",
       "<style scoped>\n",
       "    .dataframe tbody tr th:only-of-type {\n",
       "        vertical-align: middle;\n",
       "    }\n",
       "\n",
       "    .dataframe tbody tr th {\n",
       "        vertical-align: top;\n",
       "    }\n",
       "\n",
       "    .dataframe thead th {\n",
       "        text-align: right;\n",
       "    }\n",
       "</style>\n",
       "<table border=\"1\" class=\"dataframe\">\n",
       "  <thead>\n",
       "    <tr style=\"text-align: right;\">\n",
       "      <th></th>\n",
       "      <th>product_summary</th>\n",
       "      <th>description</th>\n",
       "      <th>rating_title</th>\n",
       "    </tr>\n",
       "  </thead>\n",
       "  <tbody>\n",
       "    <tr>\n",
       "      <th>0</th>\n",
       "      <td>Perfect product!</td>\n",
       "      <td>It is just awesome mobile for this price from ...</td>\n",
       "      <td>5</td>\n",
       "    </tr>\n",
       "    <tr>\n",
       "      <th>1</th>\n",
       "      <td>Must buy!</td>\n",
       "      <td>Best Apple iPhone that i have bought at a very...</td>\n",
       "      <td>5</td>\n",
       "    </tr>\n",
       "    <tr>\n",
       "      <th>2</th>\n",
       "      <td>Fabulous!</td>\n",
       "      <td>I can say I'm damn impressed with iPhone 11. A...</td>\n",
       "      <td>5</td>\n",
       "    </tr>\n",
       "    <tr>\n",
       "      <th>3</th>\n",
       "      <td>Mind-blowing purchase</td>\n",
       "      <td>Best Quality Product OF iPhone Series , Sound ...</td>\n",
       "      <td>5</td>\n",
       "    </tr>\n",
       "    <tr>\n",
       "      <th>4</th>\n",
       "      <td>Mind-blowing purchase</td>\n",
       "      <td>First thanks to Flipkart for this amazing deal...</td>\n",
       "      <td>5</td>\n",
       "    </tr>\n",
       "    <tr>\n",
       "      <th>5</th>\n",
       "      <td>Wonderful</td>\n",
       "      <td>Superfast delivery by Flipkart. Thanks.\\n\\n1. ...</td>\n",
       "      <td>5</td>\n",
       "    </tr>\n",
       "    <tr>\n",
       "      <th>6</th>\n",
       "      <td>Must buy!</td>\n",
       "      <td>I rate this product 5* as it has got amazing u...</td>\n",
       "      <td>5</td>\n",
       "    </tr>\n",
       "    <tr>\n",
       "      <th>7</th>\n",
       "      <td>Great product</td>\n",
       "      <td>Again back to apple iphone after a gap of 2-3 ...</td>\n",
       "      <td>5</td>\n",
       "    </tr>\n",
       "    <tr>\n",
       "      <th>8</th>\n",
       "      <td>Very Good</td>\n",
       "      <td>impressive super phone and best in class camer...</td>\n",
       "      <td>4</td>\n",
       "    </tr>\n",
       "    <tr>\n",
       "      <th>9</th>\n",
       "      <td>Classy product</td>\n",
       "      <td>Well while switching from android to iOS the f...</td>\n",
       "      <td>5</td>\n",
       "    </tr>\n",
       "  </tbody>\n",
       "</table>\n",
       "</div>"
      ],
      "text/plain": [
       "         product_summary                                        description  \\\n",
       "0       Perfect product!  It is just awesome mobile for this price from ...   \n",
       "1              Must buy!  Best Apple iPhone that i have bought at a very...   \n",
       "2              Fabulous!  I can say I'm damn impressed with iPhone 11. A...   \n",
       "3  Mind-blowing purchase  Best Quality Product OF iPhone Series , Sound ...   \n",
       "4  Mind-blowing purchase  First thanks to Flipkart for this amazing deal...   \n",
       "5              Wonderful  Superfast delivery by Flipkart. Thanks.\\n\\n1. ...   \n",
       "6              Must buy!  I rate this product 5* as it has got amazing u...   \n",
       "7          Great product  Again back to apple iphone after a gap of 2-3 ...   \n",
       "8              Very Good  impressive super phone and best in class camer...   \n",
       "9         Classy product  Well while switching from android to iOS the f...   \n",
       "\n",
       "  rating_title  \n",
       "0            5  \n",
       "1            5  \n",
       "2            5  \n",
       "3            5  \n",
       "4            5  \n",
       "5            5  \n",
       "6            5  \n",
       "7            5  \n",
       "8            4  \n",
       "9            5  "
      ]
     },
     "execution_count": 36,
     "metadata": {},
     "output_type": "execute_result"
    }
   ],
   "source": [
    "df5=pd.DataFrame({'product_summary':summary5,'description':full_summary5,'rating_title': rating_title5})\n",
    "df5  "
   ]
  },
  {
   "cell_type": "code",
   "execution_count": 37,
   "id": "dc498667",
   "metadata": {},
   "outputs": [],
   "source": [
    "driver.get(pgurl6)"
   ]
  },
  {
   "cell_type": "code",
   "execution_count": 38,
   "id": "96c68a9c",
   "metadata": {},
   "outputs": [
    {
     "name": "stderr",
     "output_type": "stream",
     "text": [
      "<ipython-input-38-2a64731dd3b8>:1: DeprecationWarning: find_elements_by_* commands are deprecated. Please use find_elements() instead\n",
      "  rating_tags6= driver.find_elements_by_xpath(\"//div[@class='_3LWZlK _1BLPMq']\")\n",
      "<ipython-input-38-2a64731dd3b8>:6: DeprecationWarning: find_elements_by_* commands are deprecated. Please use find_elements() instead\n",
      "  summ_tags6= driver.find_elements_by_xpath(\"//div[@class='t-ZTKy']\")\n",
      "<ipython-input-38-2a64731dd3b8>:11: DeprecationWarning: find_elements_by_* commands are deprecated. Please use find_elements() instead\n",
      "  shortsumm_tags6= driver.find_elements_by_xpath(\"//p[@class='_2-N8zT']\")\n"
     ]
    }
   ],
   "source": [
    "rating_tags6= driver.find_elements_by_xpath(\"//div[@class='_3LWZlK _1BLPMq']\")\n",
    "for i in rating_tags6:\n",
    "        bname=i.text\n",
    "        rating_title6.append(bname)\n",
    "\n",
    "        summ_tags6= driver.find_elements_by_xpath(\"//div[@class='t-ZTKy']\")\n",
    "for i in summ_tags6:\n",
    "        info=i.text\n",
    "        full_summary6.append(info)\n",
    "        \n",
    "        shortsumm_tags6= driver.find_elements_by_xpath(\"//p[@class='_2-N8zT']\")\n",
    "for i in shortsumm_tags6:\n",
    "        name=i.text\n",
    "        summary6.append(name)"
   ]
  },
  {
   "cell_type": "code",
   "execution_count": 39,
   "id": "9f5b0207",
   "metadata": {},
   "outputs": [
    {
     "data": {
      "text/html": [
       "<div>\n",
       "<style scoped>\n",
       "    .dataframe tbody tr th:only-of-type {\n",
       "        vertical-align: middle;\n",
       "    }\n",
       "\n",
       "    .dataframe tbody tr th {\n",
       "        vertical-align: top;\n",
       "    }\n",
       "\n",
       "    .dataframe thead th {\n",
       "        text-align: right;\n",
       "    }\n",
       "</style>\n",
       "<table border=\"1\" class=\"dataframe\">\n",
       "  <thead>\n",
       "    <tr style=\"text-align: right;\">\n",
       "      <th></th>\n",
       "      <th>product_summary</th>\n",
       "      <th>description</th>\n",
       "      <th>rating_title</th>\n",
       "    </tr>\n",
       "  </thead>\n",
       "  <tbody>\n",
       "    <tr>\n",
       "      <th>0</th>\n",
       "      <td>Perfect product!</td>\n",
       "      <td>In love with this iphone great performance,cam...</td>\n",
       "      <td>5</td>\n",
       "    </tr>\n",
       "    <tr>\n",
       "      <th>1</th>\n",
       "      <td>Just wow!</td>\n",
       "      <td>Best in class. Battery backup is good especial...</td>\n",
       "      <td>5</td>\n",
       "    </tr>\n",
       "    <tr>\n",
       "      <th>2</th>\n",
       "      <td>Awesome</td>\n",
       "      <td>Very excited to have this phone. This phone ha...</td>\n",
       "      <td>5</td>\n",
       "    </tr>\n",
       "    <tr>\n",
       "      <th>3</th>\n",
       "      <td>Pretty good</td>\n",
       "      <td>I was using Iphone 6s and also Oneplus 6t. Bot...</td>\n",
       "      <td>4</td>\n",
       "    </tr>\n",
       "    <tr>\n",
       "      <th>4</th>\n",
       "      <td>Terrific purchase</td>\n",
       "      <td>Its Very awesome product working and good came...</td>\n",
       "      <td>5</td>\n",
       "    </tr>\n",
       "    <tr>\n",
       "      <th>5</th>\n",
       "      <td>Awesome</td>\n",
       "      <td>I am using this phone for 5 days and its one o...</td>\n",
       "      <td>5</td>\n",
       "    </tr>\n",
       "    <tr>\n",
       "      <th>6</th>\n",
       "      <td>Classy product</td>\n",
       "      <td>Best and amazing product.....phone looks so pr...</td>\n",
       "      <td>5</td>\n",
       "    </tr>\n",
       "    <tr>\n",
       "      <th>7</th>\n",
       "      <td>Brilliant</td>\n",
       "      <td>Excellent camera and display touching very nic...</td>\n",
       "      <td>5</td>\n",
       "    </tr>\n",
       "    <tr>\n",
       "      <th>8</th>\n",
       "      <td>Terrific</td>\n",
       "      <td>I got this beast today. And I must say the pic...</td>\n",
       "      <td>5</td>\n",
       "    </tr>\n",
       "    <tr>\n",
       "      <th>9</th>\n",
       "      <td>Perfect product!</td>\n",
       "      <td>Awesome purchase. Amazing phone with good batt...</td>\n",
       "      <td>5</td>\n",
       "    </tr>\n",
       "  </tbody>\n",
       "</table>\n",
       "</div>"
      ],
      "text/plain": [
       "     product_summary                                        description  \\\n",
       "0   Perfect product!  In love with this iphone great performance,cam...   \n",
       "1          Just wow!  Best in class. Battery backup is good especial...   \n",
       "2            Awesome  Very excited to have this phone. This phone ha...   \n",
       "3        Pretty good  I was using Iphone 6s and also Oneplus 6t. Bot...   \n",
       "4  Terrific purchase  Its Very awesome product working and good came...   \n",
       "5            Awesome  I am using this phone for 5 days and its one o...   \n",
       "6     Classy product  Best and amazing product.....phone looks so pr...   \n",
       "7          Brilliant  Excellent camera and display touching very nic...   \n",
       "8           Terrific  I got this beast today. And I must say the pic...   \n",
       "9   Perfect product!  Awesome purchase. Amazing phone with good batt...   \n",
       "\n",
       "  rating_title  \n",
       "0            5  \n",
       "1            5  \n",
       "2            5  \n",
       "3            4  \n",
       "4            5  \n",
       "5            5  \n",
       "6            5  \n",
       "7            5  \n",
       "8            5  \n",
       "9            5  "
      ]
     },
     "execution_count": 39,
     "metadata": {},
     "output_type": "execute_result"
    }
   ],
   "source": [
    "df6=pd.DataFrame({'product_summary':summary6,'description':full_summary6,'rating_title': rating_title6})\n",
    "df6  "
   ]
  },
  {
   "cell_type": "code",
   "execution_count": 40,
   "id": "b7880e63",
   "metadata": {},
   "outputs": [],
   "source": [
    "driver.get(pgurl7)"
   ]
  },
  {
   "cell_type": "code",
   "execution_count": 41,
   "id": "8273ad5b",
   "metadata": {},
   "outputs": [
    {
     "name": "stderr",
     "output_type": "stream",
     "text": [
      "<ipython-input-41-e49da8fb51e8>:1: DeprecationWarning: find_elements_by_* commands are deprecated. Please use find_elements() instead\n",
      "  summ_tags7= driver.find_elements_by_xpath(\"//div[@class='t-ZTKy']\")\n",
      "<ipython-input-41-e49da8fb51e8>:6: DeprecationWarning: find_elements_by_* commands are deprecated. Please use find_elements() instead\n",
      "  shortsumm_tags7= driver.find_elements_by_xpath(\"//p[@class='_2-N8zT']\")\n",
      "<ipython-input-41-e49da8fb51e8>:11: DeprecationWarning: find_elements_by_* commands are deprecated. Please use find_elements() instead\n",
      "  rat = driver.find_elements_by_xpath(\"//div[@class='_3LWZlK _1BLPMq' or @class='_3LWZlK _1rdVr6 _1BLPMq']\")\n"
     ]
    }
   ],
   "source": [
    "summ_tags7= driver.find_elements_by_xpath(\"//div[@class='t-ZTKy']\")\n",
    "for i in summ_tags7:\n",
    "        info=i.text\n",
    "        full_summary7.append(info)\n",
    "        \n",
    "        shortsumm_tags7= driver.find_elements_by_xpath(\"//p[@class='_2-N8zT']\")\n",
    "for i in shortsumm_tags7:\n",
    "        name=i.text\n",
    "        summary7.append(name)\n",
    "        \n",
    "        rat = driver.find_elements_by_xpath(\"//div[@class='_3LWZlK _1BLPMq' or @class='_3LWZlK _1rdVr6 _1BLPMq']\") \n",
    "for i in rat:\n",
    "        bame=i.text\n",
    "        rating_title7.append(bame)"
   ]
  },
  {
   "cell_type": "code",
   "execution_count": 42,
   "id": "31c35a7c",
   "metadata": {},
   "outputs": [
    {
     "data": {
      "text/html": [
       "<div>\n",
       "<style scoped>\n",
       "    .dataframe tbody tr th:only-of-type {\n",
       "        vertical-align: middle;\n",
       "    }\n",
       "\n",
       "    .dataframe tbody tr th {\n",
       "        vertical-align: top;\n",
       "    }\n",
       "\n",
       "    .dataframe thead th {\n",
       "        text-align: right;\n",
       "    }\n",
       "</style>\n",
       "<table border=\"1\" class=\"dataframe\">\n",
       "  <thead>\n",
       "    <tr style=\"text-align: right;\">\n",
       "      <th></th>\n",
       "      <th>product_summary</th>\n",
       "      <th>description</th>\n",
       "      <th>rating_title</th>\n",
       "    </tr>\n",
       "  </thead>\n",
       "  <tbody>\n",
       "    <tr>\n",
       "      <th>0</th>\n",
       "      <td>Awesome</td>\n",
       "      <td>Always love the apple products, upgraded from ...</td>\n",
       "      <td>5</td>\n",
       "    </tr>\n",
       "    <tr>\n",
       "      <th>1</th>\n",
       "      <td>Perfect product!</td>\n",
       "      <td>Value for money\\n5 star rating\\nExcellent came...</td>\n",
       "      <td>5</td>\n",
       "    </tr>\n",
       "    <tr>\n",
       "      <th>2</th>\n",
       "      <td>Very poor</td>\n",
       "      <td>Please DONT buy from here,\\n\\nI purchased Appl...</td>\n",
       "      <td>1</td>\n",
       "    </tr>\n",
       "    <tr>\n",
       "      <th>3</th>\n",
       "      <td>Fabulous!</td>\n",
       "      <td>awesome phone to have. it has got many smart f...</td>\n",
       "      <td>5</td>\n",
       "    </tr>\n",
       "    <tr>\n",
       "      <th>4</th>\n",
       "      <td>Excellent</td>\n",
       "      <td>Its a fabulous mobile look awesome performance...</td>\n",
       "      <td>5</td>\n",
       "    </tr>\n",
       "    <tr>\n",
       "      <th>5</th>\n",
       "      <td>Must buy!</td>\n",
       "      <td>Dear friends... I want to share my experience ...</td>\n",
       "      <td>5</td>\n",
       "    </tr>\n",
       "    <tr>\n",
       "      <th>6</th>\n",
       "      <td>Value-for-money</td>\n",
       "      <td>Just got this iphone 11\\nAnd it is most powerf...</td>\n",
       "      <td>4</td>\n",
       "    </tr>\n",
       "    <tr>\n",
       "      <th>7</th>\n",
       "      <td>Best in the market!</td>\n",
       "      <td>The best all rounder iphone. Flipkart is doing...</td>\n",
       "      <td>5</td>\n",
       "    </tr>\n",
       "    <tr>\n",
       "      <th>8</th>\n",
       "      <td>Brilliant</td>\n",
       "      <td>Amazing phone and on great deal I received wit...</td>\n",
       "      <td>5</td>\n",
       "    </tr>\n",
       "    <tr>\n",
       "      <th>9</th>\n",
       "      <td>Terrific purchase</td>\n",
       "      <td>finally an iPhone with very nice battery backu...</td>\n",
       "      <td>5</td>\n",
       "    </tr>\n",
       "  </tbody>\n",
       "</table>\n",
       "</div>"
      ],
      "text/plain": [
       "       product_summary                                        description  \\\n",
       "0              Awesome  Always love the apple products, upgraded from ...   \n",
       "1     Perfect product!  Value for money\\n5 star rating\\nExcellent came...   \n",
       "2            Very poor  Please DONT buy from here,\\n\\nI purchased Appl...   \n",
       "3            Fabulous!  awesome phone to have. it has got many smart f...   \n",
       "4            Excellent  Its a fabulous mobile look awesome performance...   \n",
       "5            Must buy!  Dear friends... I want to share my experience ...   \n",
       "6      Value-for-money  Just got this iphone 11\\nAnd it is most powerf...   \n",
       "7  Best in the market!  The best all rounder iphone. Flipkart is doing...   \n",
       "8            Brilliant  Amazing phone and on great deal I received wit...   \n",
       "9    Terrific purchase  finally an iPhone with very nice battery backu...   \n",
       "\n",
       "  rating_title  \n",
       "0            5  \n",
       "1            5  \n",
       "2            1  \n",
       "3            5  \n",
       "4            5  \n",
       "5            5  \n",
       "6            4  \n",
       "7            5  \n",
       "8            5  \n",
       "9            5  "
      ]
     },
     "execution_count": 42,
     "metadata": {},
     "output_type": "execute_result"
    }
   ],
   "source": [
    "df7=pd.DataFrame({'product_summary':summary7,'description':full_summary7,'rating_title': rating_title7})\n",
    "df7 "
   ]
  },
  {
   "cell_type": "code",
   "execution_count": 43,
   "id": "0744e160",
   "metadata": {},
   "outputs": [],
   "source": [
    "driver.get(pgurl8)"
   ]
  },
  {
   "cell_type": "code",
   "execution_count": 44,
   "id": "6791f913",
   "metadata": {},
   "outputs": [
    {
     "name": "stderr",
     "output_type": "stream",
     "text": [
      "<ipython-input-44-6713ea87442a>:1: DeprecationWarning: find_elements_by_* commands are deprecated. Please use find_elements() instead\n",
      "  rat = driver.find_elements_by_xpath(\"//div[@class='_3LWZlK _1BLPMq' or @class='_3LWZlK _1rdVr6 _1BLPMq']\")\n",
      "<ipython-input-44-6713ea87442a>:6: DeprecationWarning: find_elements_by_* commands are deprecated. Please use find_elements() instead\n",
      "  summ_tags8= driver.find_elements_by_xpath(\"//div[@class='t-ZTKy']\")\n",
      "<ipython-input-44-6713ea87442a>:11: DeprecationWarning: find_elements_by_* commands are deprecated. Please use find_elements() instead\n",
      "  shortsumm_tags8= driver.find_elements_by_xpath(\"//p[@class='_2-N8zT']\")\n"
     ]
    }
   ],
   "source": [
    "   rat = driver.find_elements_by_xpath(\"//div[@class='_3LWZlK _1BLPMq' or @class='_3LWZlK _1rdVr6 _1BLPMq']\") \n",
    "for i in rat:\n",
    "        bame=i.text\n",
    "        rating_title8.append(bame)\n",
    "\n",
    "        summ_tags8= driver.find_elements_by_xpath(\"//div[@class='t-ZTKy']\")\n",
    "for i in summ_tags8:\n",
    "        info=i.text\n",
    "        full_summary8.append(info)\n",
    "        \n",
    "        shortsumm_tags8= driver.find_elements_by_xpath(\"//p[@class='_2-N8zT']\")\n",
    "for i in shortsumm_tags8:\n",
    "        name=i.text\n",
    "        summary8.append(name)\n",
    "        \n"
   ]
  },
  {
   "cell_type": "code",
   "execution_count": 45,
   "id": "ab843279",
   "metadata": {},
   "outputs": [
    {
     "data": {
      "text/html": [
       "<div>\n",
       "<style scoped>\n",
       "    .dataframe tbody tr th:only-of-type {\n",
       "        vertical-align: middle;\n",
       "    }\n",
       "\n",
       "    .dataframe tbody tr th {\n",
       "        vertical-align: top;\n",
       "    }\n",
       "\n",
       "    .dataframe thead th {\n",
       "        text-align: right;\n",
       "    }\n",
       "</style>\n",
       "<table border=\"1\" class=\"dataframe\">\n",
       "  <thead>\n",
       "    <tr style=\"text-align: right;\">\n",
       "      <th></th>\n",
       "      <th>product_summary</th>\n",
       "      <th>description</th>\n",
       "      <th>rating_title</th>\n",
       "    </tr>\n",
       "  </thead>\n",
       "  <tbody>\n",
       "    <tr>\n",
       "      <th>0</th>\n",
       "      <td>Good quality product</td>\n",
       "      <td>I'm switching this phone to oppo reno 10x zoom...</td>\n",
       "      <td>4</td>\n",
       "    </tr>\n",
       "    <tr>\n",
       "      <th>1</th>\n",
       "      <td>Best in the market!</td>\n",
       "      <td>Damn this phone is a blast . Upgraded from and...</td>\n",
       "      <td>5</td>\n",
       "    </tr>\n",
       "    <tr>\n",
       "      <th>2</th>\n",
       "      <td>Perfect product!</td>\n",
       "      <td>Worth the money’ starting first from its perfo...</td>\n",
       "      <td>5</td>\n",
       "    </tr>\n",
       "    <tr>\n",
       "      <th>3</th>\n",
       "      <td>Awesome</td>\n",
       "      <td>I dreamt about this day from a long time.... G...</td>\n",
       "      <td>5</td>\n",
       "    </tr>\n",
       "    <tr>\n",
       "      <th>4</th>\n",
       "      <td>Value-for-money</td>\n",
       "      <td>I'm Really happy with the product\\nDelivery wa...</td>\n",
       "      <td>4</td>\n",
       "    </tr>\n",
       "    <tr>\n",
       "      <th>5</th>\n",
       "      <td>Just wow!</td>\n",
       "      <td>Great iphone.\\nI am writing this review after ...</td>\n",
       "      <td>5</td>\n",
       "    </tr>\n",
       "    <tr>\n",
       "      <th>6</th>\n",
       "      <td>Worthless</td>\n",
       "      <td>Phone is awesome no doubt. But Camera &amp; Displa...</td>\n",
       "      <td>1</td>\n",
       "    </tr>\n",
       "    <tr>\n",
       "      <th>7</th>\n",
       "      <td>Super!</td>\n",
       "      <td>Did an upgrade from 6s plus to iphone 11.\\nAo ...</td>\n",
       "      <td>5</td>\n",
       "    </tr>\n",
       "    <tr>\n",
       "      <th>8</th>\n",
       "      <td>Excellent</td>\n",
       "      <td>It was amazing experience for me. Honestly i a...</td>\n",
       "      <td>5</td>\n",
       "    </tr>\n",
       "    <tr>\n",
       "      <th>9</th>\n",
       "      <td>Nice product</td>\n",
       "      <td>If you are looking for a premium phone under 5...</td>\n",
       "      <td>4</td>\n",
       "    </tr>\n",
       "  </tbody>\n",
       "</table>\n",
       "</div>"
      ],
      "text/plain": [
       "        product_summary                                        description  \\\n",
       "0  Good quality product  I'm switching this phone to oppo reno 10x zoom...   \n",
       "1   Best in the market!  Damn this phone is a blast . Upgraded from and...   \n",
       "2      Perfect product!  Worth the money’ starting first from its perfo...   \n",
       "3               Awesome  I dreamt about this day from a long time.... G...   \n",
       "4       Value-for-money  I'm Really happy with the product\\nDelivery wa...   \n",
       "5             Just wow!  Great iphone.\\nI am writing this review after ...   \n",
       "6             Worthless  Phone is awesome no doubt. But Camera & Displa...   \n",
       "7                Super!  Did an upgrade from 6s plus to iphone 11.\\nAo ...   \n",
       "8             Excellent  It was amazing experience for me. Honestly i a...   \n",
       "9          Nice product  If you are looking for a premium phone under 5...   \n",
       "\n",
       "  rating_title  \n",
       "0            4  \n",
       "1            5  \n",
       "2            5  \n",
       "3            5  \n",
       "4            4  \n",
       "5            5  \n",
       "6            1  \n",
       "7            5  \n",
       "8            5  \n",
       "9            4  "
      ]
     },
     "execution_count": 45,
     "metadata": {},
     "output_type": "execute_result"
    }
   ],
   "source": [
    "df8=pd.DataFrame({'product_summary':summary8,'description':full_summary8,'rating_title': rating_title8})\n",
    "df8 "
   ]
  },
  {
   "cell_type": "code",
   "execution_count": 46,
   "id": "4906671c",
   "metadata": {},
   "outputs": [],
   "source": [
    "driver.get(pgurl9)"
   ]
  },
  {
   "cell_type": "code",
   "execution_count": 47,
   "id": "e3372687",
   "metadata": {},
   "outputs": [
    {
     "name": "stderr",
     "output_type": "stream",
     "text": [
      "<ipython-input-47-6ff77045d6c6>:1: DeprecationWarning: find_elements_by_* commands are deprecated. Please use find_elements() instead\n",
      "  rating_tags9= driver.find_elements_by_xpath(\"//div[@class='_3LWZlK _1BLPMq']\")\n",
      "<ipython-input-47-6ff77045d6c6>:6: DeprecationWarning: find_elements_by_* commands are deprecated. Please use find_elements() instead\n",
      "  summ_tags9= driver.find_elements_by_xpath(\"//div[@class='t-ZTKy']\")\n",
      "<ipython-input-47-6ff77045d6c6>:11: DeprecationWarning: find_elements_by_* commands are deprecated. Please use find_elements() instead\n",
      "  shortsumm_tags9= driver.find_elements_by_xpath(\"//p[@class='_2-N8zT']\")\n"
     ]
    }
   ],
   "source": [
    "rating_tags9= driver.find_elements_by_xpath(\"//div[@class='_3LWZlK _1BLPMq']\")\n",
    "for i in rating_tags9:\n",
    "        bname=i.text\n",
    "        rating_title9.append(bname)\n",
    "\n",
    "        summ_tags9= driver.find_elements_by_xpath(\"//div[@class='t-ZTKy']\")\n",
    "for i in summ_tags9:\n",
    "        info=i.text\n",
    "        full_summary9.append(info)\n",
    "        \n",
    "        shortsumm_tags9= driver.find_elements_by_xpath(\"//p[@class='_2-N8zT']\")\n",
    "for i in shortsumm_tags9:\n",
    "        name=i.text\n",
    "        summary9.append(name)"
   ]
  },
  {
   "cell_type": "code",
   "execution_count": 48,
   "id": "068dbfe0",
   "metadata": {},
   "outputs": [
    {
     "data": {
      "text/html": [
       "<div>\n",
       "<style scoped>\n",
       "    .dataframe tbody tr th:only-of-type {\n",
       "        vertical-align: middle;\n",
       "    }\n",
       "\n",
       "    .dataframe tbody tr th {\n",
       "        vertical-align: top;\n",
       "    }\n",
       "\n",
       "    .dataframe thead th {\n",
       "        text-align: right;\n",
       "    }\n",
       "</style>\n",
       "<table border=\"1\" class=\"dataframe\">\n",
       "  <thead>\n",
       "    <tr style=\"text-align: right;\">\n",
       "      <th></th>\n",
       "      <th>product_summary</th>\n",
       "      <th>description</th>\n",
       "      <th>rating_title</th>\n",
       "    </tr>\n",
       "  </thead>\n",
       "  <tbody>\n",
       "    <tr>\n",
       "      <th>0</th>\n",
       "      <td>Mind-blowing purchase</td>\n",
       "      <td>awesome Phone Smooth Touch Too good Sexyy look...</td>\n",
       "      <td>5</td>\n",
       "    </tr>\n",
       "    <tr>\n",
       "      <th>1</th>\n",
       "      <td>Wonderful</td>\n",
       "      <td>Super and marvellous phone look very cute and ...</td>\n",
       "      <td>5</td>\n",
       "    </tr>\n",
       "    <tr>\n",
       "      <th>2</th>\n",
       "      <td>Highly recommended</td>\n",
       "      <td>Thanks Flipkart For this amazing deal! I had a...</td>\n",
       "      <td>5</td>\n",
       "    </tr>\n",
       "    <tr>\n",
       "      <th>3</th>\n",
       "      <td>Classy product</td>\n",
       "      <td>Gifted my man on his 30th birthday 🎂 He loves ...</td>\n",
       "      <td>5</td>\n",
       "    </tr>\n",
       "    <tr>\n",
       "      <th>4</th>\n",
       "      <td>Terrific</td>\n",
       "      <td>I bought iPhone 11 On March 2021, And I am Wri...</td>\n",
       "      <td>5</td>\n",
       "    </tr>\n",
       "    <tr>\n",
       "      <th>5</th>\n",
       "      <td>Excellent</td>\n",
       "      <td>Just go for it.\\nThis phone is really amazing....</td>\n",
       "      <td>5</td>\n",
       "    </tr>\n",
       "    <tr>\n",
       "      <th>6</th>\n",
       "      <td>Mind-blowing purchase</td>\n",
       "      <td>Absolutely powerful gadget. Loved it’s look! S...</td>\n",
       "      <td>5</td>\n",
       "    </tr>\n",
       "    <tr>\n",
       "      <th>7</th>\n",
       "      <td>Mind-blowing purchase</td>\n",
       "      <td>Excellent camera 📸 And Display touching very N...</td>\n",
       "      <td>5</td>\n",
       "    </tr>\n",
       "    <tr>\n",
       "      <th>8</th>\n",
       "      <td>Excellent</td>\n",
       "      <td>A perfect phone and a good battery super camer...</td>\n",
       "      <td>5</td>\n",
       "    </tr>\n",
       "    <tr>\n",
       "      <th>9</th>\n",
       "      <td>Worth every penny</td>\n",
       "      <td>Undoubtedly Iphone 11 is the most successful m...</td>\n",
       "      <td>5</td>\n",
       "    </tr>\n",
       "  </tbody>\n",
       "</table>\n",
       "</div>"
      ],
      "text/plain": [
       "         product_summary                                        description  \\\n",
       "0  Mind-blowing purchase  awesome Phone Smooth Touch Too good Sexyy look...   \n",
       "1              Wonderful  Super and marvellous phone look very cute and ...   \n",
       "2     Highly recommended  Thanks Flipkart For this amazing deal! I had a...   \n",
       "3         Classy product  Gifted my man on his 30th birthday 🎂 He loves ...   \n",
       "4               Terrific  I bought iPhone 11 On March 2021, And I am Wri...   \n",
       "5              Excellent  Just go for it.\\nThis phone is really amazing....   \n",
       "6  Mind-blowing purchase  Absolutely powerful gadget. Loved it’s look! S...   \n",
       "7  Mind-blowing purchase  Excellent camera 📸 And Display touching very N...   \n",
       "8              Excellent  A perfect phone and a good battery super camer...   \n",
       "9      Worth every penny  Undoubtedly Iphone 11 is the most successful m...   \n",
       "\n",
       "  rating_title  \n",
       "0            5  \n",
       "1            5  \n",
       "2            5  \n",
       "3            5  \n",
       "4            5  \n",
       "5            5  \n",
       "6            5  \n",
       "7            5  \n",
       "8            5  \n",
       "9            5  "
      ]
     },
     "execution_count": 48,
     "metadata": {},
     "output_type": "execute_result"
    }
   ],
   "source": [
    "df9=pd.DataFrame({'product_summary':summary9,'description':full_summary9,'rating_title': rating_title9})\n",
    "df9 "
   ]
  },
  {
   "cell_type": "code",
   "execution_count": 49,
   "id": "20fbbb9f",
   "metadata": {},
   "outputs": [],
   "source": [
    "driver.get(pgurl10)"
   ]
  },
  {
   "cell_type": "code",
   "execution_count": 50,
   "id": "ef176f1a",
   "metadata": {},
   "outputs": [
    {
     "name": "stderr",
     "output_type": "stream",
     "text": [
      "<ipython-input-50-6b2706ef3d5f>:1: DeprecationWarning: find_elements_by_* commands are deprecated. Please use find_elements() instead\n",
      "  rating_tags10= driver.find_elements_by_xpath(\"//div[@class='_3LWZlK _1BLPMq']\")\n",
      "<ipython-input-50-6b2706ef3d5f>:6: DeprecationWarning: find_elements_by_* commands are deprecated. Please use find_elements() instead\n",
      "  summ_tags10= driver.find_elements_by_xpath(\"//div[@class='t-ZTKy']\")\n",
      "<ipython-input-50-6b2706ef3d5f>:11: DeprecationWarning: find_elements_by_* commands are deprecated. Please use find_elements() instead\n",
      "  shortsumm_tags10= driver.find_elements_by_xpath(\"//p[@class='_2-N8zT']\")\n"
     ]
    },
    {
     "name": "stdout",
     "output_type": "stream",
     "text": [
      "10 10 10\n"
     ]
    }
   ],
   "source": [
    "rating_tags10= driver.find_elements_by_xpath(\"//div[@class='_3LWZlK _1BLPMq']\")\n",
    "for i in rating_tags10:\n",
    "        bname=i.text\n",
    "        rating_title10.append(bname)\n",
    "\n",
    "        summ_tags10= driver.find_elements_by_xpath(\"//div[@class='t-ZTKy']\")\n",
    "for i in summ_tags10:\n",
    "        info=i.text\n",
    "        full_summary10.append(info)\n",
    "        \n",
    "        shortsumm_tags10= driver.find_elements_by_xpath(\"//p[@class='_2-N8zT']\")\n",
    "for i in shortsumm_tags10:\n",
    "        name=i.text\n",
    "        summary10.append(name)\n",
    "        \n",
    "print(len(summary10),len(full_summary10),len(rating_title10))"
   ]
  },
  {
   "cell_type": "code",
   "execution_count": 51,
   "id": "de2671c1",
   "metadata": {},
   "outputs": [
    {
     "data": {
      "text/html": [
       "<div>\n",
       "<style scoped>\n",
       "    .dataframe tbody tr th:only-of-type {\n",
       "        vertical-align: middle;\n",
       "    }\n",
       "\n",
       "    .dataframe tbody tr th {\n",
       "        vertical-align: top;\n",
       "    }\n",
       "\n",
       "    .dataframe thead th {\n",
       "        text-align: right;\n",
       "    }\n",
       "</style>\n",
       "<table border=\"1\" class=\"dataframe\">\n",
       "  <thead>\n",
       "    <tr style=\"text-align: right;\">\n",
       "      <th></th>\n",
       "      <th>product_summary</th>\n",
       "      <th>description</th>\n",
       "      <th>rating_title</th>\n",
       "    </tr>\n",
       "  </thead>\n",
       "  <tbody>\n",
       "    <tr>\n",
       "      <th>0</th>\n",
       "      <td>Pretty good</td>\n",
       "      <td>I've used this phone for over a month now and ...</td>\n",
       "      <td>4</td>\n",
       "    </tr>\n",
       "    <tr>\n",
       "      <th>1</th>\n",
       "      <td>Fabulous!</td>\n",
       "      <td>I purchased the iPhone 11 a month back. I must...</td>\n",
       "      <td>5</td>\n",
       "    </tr>\n",
       "    <tr>\n",
       "      <th>2</th>\n",
       "      <td>Fabulous!</td>\n",
       "      <td>Everything is perfect pictures come out so cle...</td>\n",
       "      <td>5</td>\n",
       "    </tr>\n",
       "    <tr>\n",
       "      <th>3</th>\n",
       "      <td>Brilliant</td>\n",
       "      <td>A wort full value for money decision it’s . Si...</td>\n",
       "      <td>5</td>\n",
       "    </tr>\n",
       "    <tr>\n",
       "      <th>4</th>\n",
       "      <td>Just wow!</td>\n",
       "      <td>The ultimate performance\\nCamera is superb\\nTh...</td>\n",
       "      <td>5</td>\n",
       "    </tr>\n",
       "    <tr>\n",
       "      <th>5</th>\n",
       "      <td>Terrific purchase</td>\n",
       "      <td>I use a Note10+ and have been using both iOS a...</td>\n",
       "      <td>5</td>\n",
       "    </tr>\n",
       "    <tr>\n",
       "      <th>6</th>\n",
       "      <td>Awesome</td>\n",
       "      <td>The phone is completely good\\nAs far as camera...</td>\n",
       "      <td>5</td>\n",
       "    </tr>\n",
       "    <tr>\n",
       "      <th>7</th>\n",
       "      <td>Decent product</td>\n",
       "      <td>Everything u ll like it when u use this iPhone...</td>\n",
       "      <td>3</td>\n",
       "    </tr>\n",
       "    <tr>\n",
       "      <th>8</th>\n",
       "      <td>Awesome</td>\n",
       "      <td>Can’t beat the software and hardware integrati...</td>\n",
       "      <td>5</td>\n",
       "    </tr>\n",
       "    <tr>\n",
       "      <th>9</th>\n",
       "      <td>Does the job</td>\n",
       "      <td>phone is good but in display is 720p lcd in th...</td>\n",
       "      <td>3</td>\n",
       "    </tr>\n",
       "  </tbody>\n",
       "</table>\n",
       "</div>"
      ],
      "text/plain": [
       "     product_summary                                        description  \\\n",
       "0        Pretty good  I've used this phone for over a month now and ...   \n",
       "1          Fabulous!  I purchased the iPhone 11 a month back. I must...   \n",
       "2          Fabulous!  Everything is perfect pictures come out so cle...   \n",
       "3          Brilliant  A wort full value for money decision it’s . Si...   \n",
       "4          Just wow!  The ultimate performance\\nCamera is superb\\nTh...   \n",
       "5  Terrific purchase  I use a Note10+ and have been using both iOS a...   \n",
       "6            Awesome  The phone is completely good\\nAs far as camera...   \n",
       "7     Decent product  Everything u ll like it when u use this iPhone...   \n",
       "8            Awesome  Can’t beat the software and hardware integrati...   \n",
       "9       Does the job  phone is good but in display is 720p lcd in th...   \n",
       "\n",
       "  rating_title  \n",
       "0            4  \n",
       "1            5  \n",
       "2            5  \n",
       "3            5  \n",
       "4            5  \n",
       "5            5  \n",
       "6            5  \n",
       "7            3  \n",
       "8            5  \n",
       "9            3  "
      ]
     },
     "execution_count": 51,
     "metadata": {},
     "output_type": "execute_result"
    }
   ],
   "source": [
    "df10=pd.DataFrame({'product_summary':summary10,'description':full_summary10,'rating_title': rating_title10})\n",
    "df10 "
   ]
  },
  {
   "cell_type": "code",
   "execution_count": 52,
   "id": "4508d3ad",
   "metadata": {},
   "outputs": [
    {
     "data": {
      "text/html": [
       "<div>\n",
       "<style scoped>\n",
       "    .dataframe tbody tr th:only-of-type {\n",
       "        vertical-align: middle;\n",
       "    }\n",
       "\n",
       "    .dataframe tbody tr th {\n",
       "        vertical-align: top;\n",
       "    }\n",
       "\n",
       "    .dataframe thead th {\n",
       "        text-align: right;\n",
       "    }\n",
       "</style>\n",
       "<table border=\"1\" class=\"dataframe\">\n",
       "  <thead>\n",
       "    <tr style=\"text-align: right;\">\n",
       "      <th></th>\n",
       "      <th>product_summary</th>\n",
       "      <th>description</th>\n",
       "      <th>rating_title</th>\n",
       "    </tr>\n",
       "  </thead>\n",
       "  <tbody>\n",
       "    <tr>\n",
       "      <th>0</th>\n",
       "      <td>Brilliant</td>\n",
       "      <td>The Best Phone for the Money\\n\\nThe iPhone 11 ...</td>\n",
       "      <td>5</td>\n",
       "    </tr>\n",
       "    <tr>\n",
       "      <th>1</th>\n",
       "      <td>Simply awesome</td>\n",
       "      <td>Really satisfied with the Product I received.....</td>\n",
       "      <td>5</td>\n",
       "    </tr>\n",
       "    <tr>\n",
       "      <th>2</th>\n",
       "      <td>Best in the market!</td>\n",
       "      <td>Great iPhone very snappy experience as apple k...</td>\n",
       "      <td>5</td>\n",
       "    </tr>\n",
       "    <tr>\n",
       "      <th>3</th>\n",
       "      <td>Perfect product!</td>\n",
       "      <td>Amazing phone with great cameras and better ba...</td>\n",
       "      <td>5</td>\n",
       "    </tr>\n",
       "    <tr>\n",
       "      <th>4</th>\n",
       "      <td>Worth every penny</td>\n",
       "      <td>Previously I was using one plus 3t it was a gr...</td>\n",
       "      <td>5</td>\n",
       "    </tr>\n",
       "    <tr>\n",
       "      <th>...</th>\n",
       "      <td>...</td>\n",
       "      <td>...</td>\n",
       "      <td>...</td>\n",
       "    </tr>\n",
       "    <tr>\n",
       "      <th>95</th>\n",
       "      <td>Terrific purchase</td>\n",
       "      <td>I use a Note10+ and have been using both iOS a...</td>\n",
       "      <td>5</td>\n",
       "    </tr>\n",
       "    <tr>\n",
       "      <th>96</th>\n",
       "      <td>Awesome</td>\n",
       "      <td>The phone is completely good\\nAs far as camera...</td>\n",
       "      <td>5</td>\n",
       "    </tr>\n",
       "    <tr>\n",
       "      <th>97</th>\n",
       "      <td>Decent product</td>\n",
       "      <td>Everything u ll like it when u use this iPhone...</td>\n",
       "      <td>3</td>\n",
       "    </tr>\n",
       "    <tr>\n",
       "      <th>98</th>\n",
       "      <td>Awesome</td>\n",
       "      <td>Can’t beat the software and hardware integrati...</td>\n",
       "      <td>5</td>\n",
       "    </tr>\n",
       "    <tr>\n",
       "      <th>99</th>\n",
       "      <td>Does the job</td>\n",
       "      <td>phone is good but in display is 720p lcd in th...</td>\n",
       "      <td>3</td>\n",
       "    </tr>\n",
       "  </tbody>\n",
       "</table>\n",
       "<p>100 rows × 3 columns</p>\n",
       "</div>"
      ],
      "text/plain": [
       "        product_summary                                        description  \\\n",
       "0             Brilliant  The Best Phone for the Money\\n\\nThe iPhone 11 ...   \n",
       "1        Simply awesome  Really satisfied with the Product I received.....   \n",
       "2   Best in the market!  Great iPhone very snappy experience as apple k...   \n",
       "3      Perfect product!  Amazing phone with great cameras and better ba...   \n",
       "4     Worth every penny  Previously I was using one plus 3t it was a gr...   \n",
       "..                  ...                                                ...   \n",
       "95    Terrific purchase  I use a Note10+ and have been using both iOS a...   \n",
       "96              Awesome  The phone is completely good\\nAs far as camera...   \n",
       "97       Decent product  Everything u ll like it when u use this iPhone...   \n",
       "98              Awesome  Can’t beat the software and hardware integrati...   \n",
       "99         Does the job  phone is good but in display is 720p lcd in th...   \n",
       "\n",
       "   rating_title  \n",
       "0             5  \n",
       "1             5  \n",
       "2             5  \n",
       "3             5  \n",
       "4             5  \n",
       "..          ...  \n",
       "95            5  \n",
       "96            5  \n",
       "97            3  \n",
       "98            5  \n",
       "99            3  \n",
       "\n",
       "[100 rows x 3 columns]"
      ]
     },
     "execution_count": 52,
     "metadata": {},
     "output_type": "execute_result"
    }
   ],
   "source": [
    "make1  = df.append(df2, ignore_index=True)\n",
    "make2  =make1.append(df3, ignore_index=True)\n",
    "make3  =make2.append(df4, ignore_index=True)\n",
    "make4  =make3.append(df5, ignore_index=True)\n",
    "make5  =make4.append(df6, ignore_index=True) \n",
    "make6  =make5.append(df7, ignore_index=True)\n",
    "make7  =make6.append(df8, ignore_index=True)\n",
    "make8  =make7.append(df9, ignore_index=True)\n",
    "make9  =make8.append(df10, ignore_index=True)\n",
    "make9"
   ]
  },
  {
   "cell_type": "markdown",
   "id": "f2a463e2",
   "metadata": {},
   "source": [
    "#### Final 100 List"
   ]
  },
  {
   "cell_type": "markdown",
   "id": "53338b66",
   "metadata": {},
   "source": [
    "## Q6"
   ]
  },
  {
   "cell_type": "code",
   "execution_count": 26,
   "id": "a7596577",
   "metadata": {},
   "outputs": [
    {
     "name": "stderr",
     "output_type": "stream",
     "text": [
      "<ipython-input-26-bf785a0bdbf8>:1: DeprecationWarning: executable_path has been deprecated, please pass in a Service object\n",
      "  driver= webdriver.Chrome(r\"C:\\chromedriver.exe\")\n"
     ]
    }
   ],
   "source": [
    "driver= webdriver.Chrome(r\"C:\\chromedriver.exe\")\n",
    "driver.get(\"https://www.flipkart.com/\")"
   ]
  },
  {
   "cell_type": "code",
   "execution_count": 30,
   "id": "0fd65524",
   "metadata": {},
   "outputs": [
    {
     "name": "stderr",
     "output_type": "stream",
     "text": [
      "<ipython-input-30-3e3d2b7e6ad6>:1: DeprecationWarning: find_element_by_* commands are deprecated. Please use find_element() instead\n",
      "  search_b=driver.find_element_by_xpath(\"/html/body/div[1]/div/div[1]/div[1]/div[2]/div[2]/form/div/div/input\")\n",
      "<ipython-input-30-3e3d2b7e6ad6>:4: DeprecationWarning: find_element_by_* commands are deprecated. Please use find_element() instead\n",
      "  button=driver.find_element_by_class_name(\"L0Z3Pu\")\n"
     ]
    }
   ],
   "source": [
    "search_b=driver.find_element_by_xpath(\"/html/body/div[1]/div/div[1]/div[1]/div[2]/div[2]/form/div/div/input\")\n",
    "\n",
    "search_b.send_keys(\"sneakers\")\n",
    "button=driver.find_element_by_class_name(\"L0Z3Pu\")\n",
    "\n",
    "button.click()"
   ]
  },
  {
   "cell_type": "code",
   "execution_count": 29,
   "id": "c23ac538",
   "metadata": {},
   "outputs": [],
   "source": [
    "brand_title=[]\n",
    "price_list=[]\n",
    "description_list=[]\n",
    "discount_list=[]\n"
   ]
  },
  {
   "cell_type": "code",
   "execution_count": null,
   "id": "f056c817",
   "metadata": {},
   "outputs": [],
   "source": [
    "brand= driver.find_elements_by_xpath(\"//div[@class='_2WkVRV']\")\n",
    "for i in brand:\n",
    "        bname=i.text\n",
    "        brand_title.append(bname)\n",
    "descri_tags= driver.find_elements_by_xpath(\"//a[@class='IRpwTa _2-ICcC']\")\n",
    "df=[]\n",
    "rat = driver.find_elements_by_xpath(\"//div[@class='IRpwTa' or @class='IRpwTa _2-ICcC']\")\n",
    "for i in rat:\n",
    "       bae=i.text\n",
    "        df.append(ba\n",
    "                  f\n",
    "\n"
   ]
  },
  {
   "cell_type": "code",
   "execution_count": 32,
   "id": "20229172",
   "metadata": {},
   "outputs": [
    {
     "ename": "IndentationError",
     "evalue": "unexpected indent (<ipython-input-32-253b80168dd7>, line 7)",
     "output_type": "error",
     "traceback": [
      "\u001b[1;36m  File \u001b[1;32m\"<ipython-input-32-253b80168dd7>\"\u001b[1;36m, line \u001b[1;32m7\u001b[0m\n\u001b[1;33m    descri_tags.append(bae)\u001b[0m\n\u001b[1;37m    ^\u001b[0m\n\u001b[1;31mIndentationError\u001b[0m\u001b[1;31m:\u001b[0m unexpected indent\n"
     ]
    }
   ],
   "source": [
    "descri_tags= driver.find_elements_by_xpath(\"//a[@class='IRpwTa']\")\n",
    "descri_tags[0:4]   ##IRpwTa\n",
    "\n",
    "rat = driver.find_elements_by_xpath(\"//div[@class='IRpwTa' or @class='IRpwTa _2-ICcC']\") \n",
    "for i in rat:\n",
    "       bae=i.text\n",
    "        descri_tags.append(bae)\n",
    "## OR GATE\n",
    "for i in descri_tags:\n",
    "        title=i.text\n",
    "        description_list.append(title)\n",
    "description_list\n"
   ]
  },
  {
   "cell_type": "code",
   "execution_count": 33,
   "id": "c7a50514",
   "metadata": {},
   "outputs": [
    {
     "name": "stderr",
     "output_type": "stream",
     "text": [
      "<ipython-input-33-94ed56551bb6>:1: DeprecationWarning: find_elements_by_* commands are deprecated. Please use find_elements() instead\n",
      "  discount_tags= driver.find_elements_by_xpath(\"//div[@class='_3Ay6Sb']\")\n"
     ]
    }
   ],
   "source": [
    "discount_tags= driver.find_elements_by_xpath(\"//div[@class='_3Ay6Sb']\")\n",
    "discount_tags[0:4]\n",
    "for i in discount_tags:\n",
    "        disname=i.text\n",
    "        discount_list.append(disname)\n"
   ]
  },
  {
   "cell_type": "code",
   "execution_count": 34,
   "id": "54eaf11b",
   "metadata": {},
   "outputs": [
    {
     "name": "stdout",
     "output_type": "stream",
     "text": [
      "0 0 0 0\n"
     ]
    }
   ],
   "source": [
    "print(len(brand_title ),len(description_list),len(price_list),len(discount_list))"
   ]
  },
  {
   "cell_type": "markdown",
   "id": "50a6addf",
   "metadata": {},
   "source": [
    "## Que-7"
   ]
  },
  {
   "cell_type": "code",
   "execution_count": 55,
   "id": "1f7dd083",
   "metadata": {},
   "outputs": [
    {
     "name": "stderr",
     "output_type": "stream",
     "text": [
      "<ipython-input-55-e53bf63c102a>:1: DeprecationWarning: executable_path has been deprecated, please pass in a Service object\n",
      "  driver= webdriver.Chrome(r\"C:\\chromedriver.exe\")\n"
     ]
    }
   ],
   "source": [
    "driver= webdriver.Chrome(r\"C:\\chromedriver.exe\")"
   ]
  },
  {
   "cell_type": "code",
   "execution_count": 56,
   "id": "023df266",
   "metadata": {},
   "outputs": [],
   "source": [
    "driver.get(\"https://www.myntra.com/shoes\")"
   ]
  },
  {
   "cell_type": "code",
   "execution_count": 57,
   "id": "c1d95cfb",
   "metadata": {},
   "outputs": [
    {
     "name": "stderr",
     "output_type": "stream",
     "text": [
      "<ipython-input-57-90ddabd76f40>:1: DeprecationWarning: find_element_by_* commands are deprecated. Please use find_element() instead\n",
      "  loc=driver.find_element_by_xpath(\"/html/body/div[2]/div/div[1]/main/div[3]/div[1]/section/div/div[5]/ul/li[2]/label/div\")\n"
     ]
    }
   ],
   "source": [
    "loc=driver.find_element_by_xpath(\"/html/body/div[2]/div/div[1]/main/div[3]/div[1]/section/div/div[5]/ul/li[2]/label/div\")\n",
    "## for price filter\n",
    "loc.click()\n"
   ]
  },
  {
   "cell_type": "code",
   "execution_count": 58,
   "id": "d268c418",
   "metadata": {},
   "outputs": [
    {
     "name": "stderr",
     "output_type": "stream",
     "text": [
      "<ipython-input-58-d7253efa5a2c>:1: DeprecationWarning: find_element_by_* commands are deprecated. Please use find_element() instead\n",
      "  colour=driver.find_element_by_xpath(\"/html/body/div[2]/div/div[1]/main/div[3]/div[1]/section/div/div[6]/ul/li[1]/label/div\")\n"
     ]
    }
   ],
   "source": [
    "colour=driver.find_element_by_xpath(\"/html/body/div[2]/div/div[1]/main/div[3]/div[1]/section/div/div[6]/ul/li[1]/label/div\")\n",
    "## for Black colour\n",
    "colour.click()\n"
   ]
  },
  {
   "cell_type": "code",
   "execution_count": 60,
   "id": "e246e11b",
   "metadata": {},
   "outputs": [],
   "source": [
    "brand_title7=[]\n",
    "price_list7=[]\n",
    "description_list7=[]"
   ]
  },
  {
   "cell_type": "code",
   "execution_count": 61,
   "id": "9ee3542d",
   "metadata": {},
   "outputs": [
    {
     "name": "stderr",
     "output_type": "stream",
     "text": [
      "<ipython-input-61-90d40c33011a>:1: DeprecationWarning: find_elements_by_* commands are deprecated. Please use find_elements() instead\n",
      "  brand= driver.find_elements_by_xpath(\"//h3[@class='product-brand']\")\n",
      "<ipython-input-61-90d40c33011a>:5: DeprecationWarning: find_elements_by_* commands are deprecated. Please use find_elements() instead\n",
      "  descri= driver.find_elements_by_xpath(\"//h4[@class='product-product']\")\n",
      "<ipython-input-61-90d40c33011a>:9: DeprecationWarning: find_elements_by_* commands are deprecated. Please use find_elements() instead\n",
      "  rat = driver.find_elements_by_xpath(\"//div[@class='product-price' or @class='product-price']\")\n"
     ]
    },
    {
     "name": "stdout",
     "output_type": "stream",
     "text": [
      "50 50 50\n"
     ]
    }
   ],
   "source": [
    "brand= driver.find_elements_by_xpath(\"//h3[@class='product-brand']\")\n",
    "for i in brand:\n",
    "        bname=i.text\n",
    "        brand_title7.append(bname)\n",
    "descri= driver.find_elements_by_xpath(\"//h4[@class='product-product']\")\n",
    "for i in descri:\n",
    "        bname=i.text\n",
    "        description_list7.append(bname)\n",
    "rat = driver.find_elements_by_xpath(\"//div[@class='product-price' or @class='product-price']\") \n",
    "for i in rat:\n",
    "        bame=i.text\n",
    "        price_list7.append(bame)\n",
    "        \n",
    "print(len(brand_title7),len(description_list7),len(price_list7))\n",
    "\n",
    "\n"
   ]
  },
  {
   "cell_type": "code",
   "execution_count": 63,
   "id": "188f4349",
   "metadata": {},
   "outputs": [
    {
     "data": {
      "text/html": [
       "<div>\n",
       "<style scoped>\n",
       "    .dataframe tbody tr th:only-of-type {\n",
       "        vertical-align: middle;\n",
       "    }\n",
       "\n",
       "    .dataframe tbody tr th {\n",
       "        vertical-align: top;\n",
       "    }\n",
       "\n",
       "    .dataframe thead th {\n",
       "        text-align: right;\n",
       "    }\n",
       "</style>\n",
       "<table border=\"1\" class=\"dataframe\">\n",
       "  <thead>\n",
       "    <tr style=\"text-align: right;\">\n",
       "      <th></th>\n",
       "      <th>Brand name</th>\n",
       "      <th>Price</th>\n",
       "      <th>Description</th>\n",
       "    </tr>\n",
       "  </thead>\n",
       "  <tbody>\n",
       "    <tr>\n",
       "      <th>45</th>\n",
       "      <td>DAVINCHI</td>\n",
       "      <td>Rs. 7990</td>\n",
       "      <td>Men Solid Leather Formal Derbys</td>\n",
       "    </tr>\n",
       "    <tr>\n",
       "      <th>46</th>\n",
       "      <td>Heel &amp; Buckle London</td>\n",
       "      <td>Rs. 7693Rs. 10990(30% OFF)</td>\n",
       "      <td>Men Solid Leather Formal Penny Loafers</td>\n",
       "    </tr>\n",
       "    <tr>\n",
       "      <th>47</th>\n",
       "      <td>H&amp;M</td>\n",
       "      <td>Rs. 6999</td>\n",
       "      <td>Chunky Leather Chelsea Boots</td>\n",
       "    </tr>\n",
       "    <tr>\n",
       "      <th>48</th>\n",
       "      <td>Ruosh</td>\n",
       "      <td>Rs. 6990</td>\n",
       "      <td>Men Leather Slip-On Shoes</td>\n",
       "    </tr>\n",
       "    <tr>\n",
       "      <th>49</th>\n",
       "      <td>J.FONTINI</td>\n",
       "      <td>Rs. 6990</td>\n",
       "      <td>Men Leather Formal Loafers</td>\n",
       "    </tr>\n",
       "  </tbody>\n",
       "</table>\n",
       "</div>"
      ],
      "text/plain": [
       "              Brand name                       Price  \\\n",
       "45              DAVINCHI                    Rs. 7990   \n",
       "46  Heel & Buckle London  Rs. 7693Rs. 10990(30% OFF)   \n",
       "47                   H&M                    Rs. 6999   \n",
       "48                 Ruosh                    Rs. 6990   \n",
       "49             J.FONTINI                    Rs. 6990   \n",
       "\n",
       "                               Description  \n",
       "45         Men Solid Leather Formal Derbys  \n",
       "46  Men Solid Leather Formal Penny Loafers  \n",
       "47            Chunky Leather Chelsea Boots  \n",
       "48               Men Leather Slip-On Shoes  \n",
       "49              Men Leather Formal Loafers  "
      ]
     },
     "execution_count": 63,
     "metadata": {},
     "output_type": "execute_result"
    }
   ],
   "source": [
    "myntra=pd.DataFrame({})\n",
    "myntra['Brand name']=brand_title7\n",
    "myntra['Price']=price_list7\n",
    "myntra['Description']=description_list7\n",
    "myntra.tail()\n",
    "\n"
   ]
  },
  {
   "cell_type": "code",
   "execution_count": 64,
   "id": "a46ab147",
   "metadata": {},
   "outputs": [
    {
     "name": "stderr",
     "output_type": "stream",
     "text": [
      "<ipython-input-64-dab8bdc7fa48>:1: DeprecationWarning: find_elements_by_* commands are deprecated. Please use find_elements() instead\n",
      "  urls=driver.find_elements_by_xpath(\"//li[@class='pagination-number']/a[1]\")\n"
     ]
    },
    {
     "name": "stdout",
     "output_type": "stream",
     "text": [
      "https://www.myntra.com/shoes?f=Color%3ABlack_36454f&rf=Price%3A6099.0_11999.0_6099.0%20TO%2011999.0&p=2\n",
      "https://www.myntra.com/shoes?f=Color%3ABlack_36454f&rf=Price%3A6099.0_11999.0_6099.0%20TO%2011999.0&p=3\n",
      "https://www.myntra.com/shoes?f=Color%3ABlack_36454f&rf=Price%3A6099.0_11999.0_6099.0%20TO%2011999.0&p=4\n",
      "https://www.myntra.com/shoes?f=Color%3ABlack_36454f&rf=Price%3A6099.0_11999.0_6099.0%20TO%2011999.0&p=5\n",
      "https://www.myntra.com/shoes?f=Color%3ABlack_36454f&rf=Price%3A6099.0_11999.0_6099.0%20TO%2011999.0&p=6\n",
      "https://www.myntra.com/shoes?f=Color%3ABlack_36454f&rf=Price%3A6099.0_11999.0_6099.0%20TO%2011999.0&p=7\n",
      "https://www.myntra.com/shoes?f=Color%3ABlack_36454f&rf=Price%3A6099.0_11999.0_6099.0%20TO%2011999.0&p=8\n",
      "https://www.myntra.com/shoes?f=Color%3ABlack_36454f&rf=Price%3A6099.0_11999.0_6099.0%20TO%2011999.0&p=9\n",
      "https://www.myntra.com/shoes?f=Color%3ABlack_36454f&rf=Price%3A6099.0_11999.0_6099.0%20TO%2011999.0&p=10\n"
     ]
    }
   ],
   "source": [
    "urls=driver.find_elements_by_xpath(\"//li[@class='pagination-number']/a[1]\")\n",
    "for i in urls:\n",
    "    print(i.get_attribute('href'))"
   ]
  },
  {
   "cell_type": "code",
   "execution_count": 66,
   "id": "90156d35",
   "metadata": {},
   "outputs": [],
   "source": [
    "url2='https://www.myntra.com/shoes?f=Color%3ABlack_36454f&p=2'\n",
    "driver.get(url2)\n",
    "brand_title2=[]\n",
    "price_list2=[]\n",
    "description_list2=[]\n"
   ]
  },
  {
   "cell_type": "code",
   "execution_count": 67,
   "id": "8458b9fe",
   "metadata": {
    "scrolled": true
   },
   "outputs": [
    {
     "name": "stderr",
     "output_type": "stream",
     "text": [
      "<ipython-input-67-5a873926526c>:1: DeprecationWarning: find_elements_by_* commands are deprecated. Please use find_elements() instead\n",
      "  brand2= driver.find_elements_by_xpath(\"//h3[@class='product-brand']\")\n",
      "<ipython-input-67-5a873926526c>:5: DeprecationWarning: find_elements_by_* commands are deprecated. Please use find_elements() instead\n",
      "  descri2= driver.find_elements_by_xpath(\"//h4[@class='product-product']\")\n",
      "<ipython-input-67-5a873926526c>:9: DeprecationWarning: find_elements_by_* commands are deprecated. Please use find_elements() instead\n",
      "  rat2 = driver.find_elements_by_xpath(\"//div[@class='product-price' or @class='product-price']\")\n"
     ]
    },
    {
     "name": "stdout",
     "output_type": "stream",
     "text": [
      "50 50 50\n"
     ]
    }
   ],
   "source": [
    "brand2= driver.find_elements_by_xpath(\"//h3[@class='product-brand']\")\n",
    "for i in brand2:\n",
    "        bname=i.text\n",
    "        brand_title2.append(bname)\n",
    "descri2= driver.find_elements_by_xpath(\"//h4[@class='product-product']\")\n",
    "for i in descri2:\n",
    "        bname=i.text\n",
    "        description_list2.append(bname)\n",
    "rat2 = driver.find_elements_by_xpath(\"//div[@class='product-price' or @class='product-price']\") \n",
    "for i in rat2:\n",
    "        bame=i.text\n",
    "        price_list2.append(bame)\n",
    "len(price_list2)\n",
    "## OR GATE\n",
    "\n",
    "print(len(brand_title2),len(description_list2),len(price_list2))\n"
   ]
  },
  {
   "cell_type": "code",
   "execution_count": 69,
   "id": "af92d7c1",
   "metadata": {},
   "outputs": [
    {
     "data": {
      "text/html": [
       "<div>\n",
       "<style scoped>\n",
       "    .dataframe tbody tr th:only-of-type {\n",
       "        vertical-align: middle;\n",
       "    }\n",
       "\n",
       "    .dataframe tbody tr th {\n",
       "        vertical-align: top;\n",
       "    }\n",
       "\n",
       "    .dataframe thead th {\n",
       "        text-align: right;\n",
       "    }\n",
       "</style>\n",
       "<table border=\"1\" class=\"dataframe\">\n",
       "  <thead>\n",
       "    <tr style=\"text-align: right;\">\n",
       "      <th></th>\n",
       "      <th>Brand name</th>\n",
       "      <th>Price</th>\n",
       "      <th>Description</th>\n",
       "    </tr>\n",
       "  </thead>\n",
       "  <tbody>\n",
       "    <tr>\n",
       "      <th>45</th>\n",
       "      <td>Puma</td>\n",
       "      <td>Rs. 2599Rs. 6499(60% OFF)</td>\n",
       "      <td>Men Running Shoes</td>\n",
       "    </tr>\n",
       "    <tr>\n",
       "      <th>46</th>\n",
       "      <td>Khadims</td>\n",
       "      <td>Rs. 994Rs. 999(Rs. 5 OFF)</td>\n",
       "      <td>Men Walking Shoes</td>\n",
       "    </tr>\n",
       "    <tr>\n",
       "      <th>47</th>\n",
       "      <td>HRX by Hrithik Roshan</td>\n",
       "      <td>Rs. 1349Rs. 4499(70% OFF)</td>\n",
       "      <td>Men Atom Running Shoe</td>\n",
       "    </tr>\n",
       "    <tr>\n",
       "      <th>48</th>\n",
       "      <td>Crocs</td>\n",
       "      <td>Rs. 1797Rs. 2995(40% OFF)</td>\n",
       "      <td>Women Open Toe Flats</td>\n",
       "    </tr>\n",
       "    <tr>\n",
       "      <th>49</th>\n",
       "      <td>Campus</td>\n",
       "      <td>Rs. 1359Rs. 1699(20% OFF)</td>\n",
       "      <td>Men Running Shoes</td>\n",
       "    </tr>\n",
       "  </tbody>\n",
       "</table>\n",
       "</div>"
      ],
      "text/plain": [
       "               Brand name                      Price            Description\n",
       "45                   Puma  Rs. 2599Rs. 6499(60% OFF)      Men Running Shoes\n",
       "46                Khadims  Rs. 994Rs. 999(Rs. 5 OFF)      Men Walking Shoes\n",
       "47  HRX by Hrithik Roshan  Rs. 1349Rs. 4499(70% OFF)  Men Atom Running Shoe\n",
       "48                  Crocs  Rs. 1797Rs. 2995(40% OFF)   Women Open Toe Flats\n",
       "49                 Campus  Rs. 1359Rs. 1699(20% OFF)      Men Running Shoes"
      ]
     },
     "execution_count": 69,
     "metadata": {},
     "output_type": "execute_result"
    }
   ],
   "source": [
    "myntra2=pd.DataFrame({})\n",
    "myntra2['Brand name']=brand_title2\n",
    "myntra2['Price']=price_list2\n",
    "myntra2['Description']=description_list2\n",
    "myntra2.tail()\n",
    "\n"
   ]
  },
  {
   "cell_type": "code",
   "execution_count": 71,
   "id": "7a244fde",
   "metadata": {},
   "outputs": [
    {
     "data": {
      "text/html": [
       "<div>\n",
       "<style scoped>\n",
       "    .dataframe tbody tr th:only-of-type {\n",
       "        vertical-align: middle;\n",
       "    }\n",
       "\n",
       "    .dataframe tbody tr th {\n",
       "        vertical-align: top;\n",
       "    }\n",
       "\n",
       "    .dataframe thead th {\n",
       "        text-align: right;\n",
       "    }\n",
       "</style>\n",
       "<table border=\"1\" class=\"dataframe\">\n",
       "  <thead>\n",
       "    <tr style=\"text-align: right;\">\n",
       "      <th></th>\n",
       "      <th>Brand name</th>\n",
       "      <th>Price</th>\n",
       "      <th>Description</th>\n",
       "    </tr>\n",
       "  </thead>\n",
       "  <tbody>\n",
       "    <tr>\n",
       "      <th>95</th>\n",
       "      <td>Puma</td>\n",
       "      <td>Rs. 2599Rs. 6499(60% OFF)</td>\n",
       "      <td>Men Running Shoes</td>\n",
       "    </tr>\n",
       "    <tr>\n",
       "      <th>96</th>\n",
       "      <td>Khadims</td>\n",
       "      <td>Rs. 994Rs. 999(Rs. 5 OFF)</td>\n",
       "      <td>Men Walking Shoes</td>\n",
       "    </tr>\n",
       "    <tr>\n",
       "      <th>97</th>\n",
       "      <td>HRX by Hrithik Roshan</td>\n",
       "      <td>Rs. 1349Rs. 4499(70% OFF)</td>\n",
       "      <td>Men Atom Running Shoe</td>\n",
       "    </tr>\n",
       "    <tr>\n",
       "      <th>98</th>\n",
       "      <td>Crocs</td>\n",
       "      <td>Rs. 1797Rs. 2995(40% OFF)</td>\n",
       "      <td>Women Open Toe Flats</td>\n",
       "    </tr>\n",
       "    <tr>\n",
       "      <th>99</th>\n",
       "      <td>Campus</td>\n",
       "      <td>Rs. 1359Rs. 1699(20% OFF)</td>\n",
       "      <td>Men Running Shoes</td>\n",
       "    </tr>\n",
       "  </tbody>\n",
       "</table>\n",
       "</div>"
      ],
      "text/plain": [
       "               Brand name                      Price            Description\n",
       "95                   Puma  Rs. 2599Rs. 6499(60% OFF)      Men Running Shoes\n",
       "96                Khadims  Rs. 994Rs. 999(Rs. 5 OFF)      Men Walking Shoes\n",
       "97  HRX by Hrithik Roshan  Rs. 1349Rs. 4499(70% OFF)  Men Atom Running Shoe\n",
       "98                  Crocs  Rs. 1797Rs. 2995(40% OFF)   Women Open Toe Flats\n",
       "99                 Campus  Rs. 1359Rs. 1699(20% OFF)      Men Running Shoes"
      ]
     },
     "execution_count": 71,
     "metadata": {},
     "output_type": "execute_result"
    }
   ],
   "source": [
    "final_myntra = myntra.append(myntra2, ignore_index=True)\n",
    "final_myntra.tail()"
   ]
  },
  {
   "cell_type": "markdown",
   "id": "989daf9b",
   "metadata": {},
   "source": [
    "## Q--8"
   ]
  },
  {
   "cell_type": "code",
   "execution_count": 80,
   "id": "09ec1b40",
   "metadata": {},
   "outputs": [
    {
     "name": "stderr",
     "output_type": "stream",
     "text": [
      "<ipython-input-80-b7e2c95c165f>:4: DeprecationWarning: executable_path has been deprecated, please pass in a Service object\n",
      "  driver= webdriver.Chrome(r\"C:\\chromedriver.exe\")\n"
     ]
    }
   ],
   "source": [
    "import selenium\n",
    "import pandas as pd\n",
    "from selenium import webdriver\n",
    "driver= webdriver.Chrome(r\"C:\\chromedriver.exe\")\n",
    "driver.get(\"https://www.amazon.in/\")\n"
   ]
  },
  {
   "cell_type": "code",
   "execution_count": 82,
   "id": "52a5d5ed",
   "metadata": {},
   "outputs": [
    {
     "name": "stderr",
     "output_type": "stream",
     "text": [
      "<ipython-input-82-a74bcbd4e62e>:1: DeprecationWarning: find_element_by_* commands are deprecated. Please use find_element() instead\n",
      "  search_job = driver.find_element_by_id('twotabsearchtextbox')\n",
      "<ipython-input-82-a74bcbd4e62e>:3: DeprecationWarning: find_element_by_* commands are deprecated. Please use find_element() instead\n",
      "  click_button = driver.find_element_by_id('nav-search-submit-button')\n"
     ]
    }
   ],
   "source": [
    "search_job = driver.find_element_by_id('twotabsearchtextbox')\n",
    "search_job.send_keys(\"Laptop \")\n",
    "click_button = driver.find_element_by_id('nav-search-submit-button')\n",
    "click_button.click()\n"
   ]
  },
  {
   "cell_type": "code",
   "execution_count": null,
   "id": "7ca5cab4",
   "metadata": {},
   "outputs": [],
   "source": [
    "\n"
   ]
  },
  {
   "cell_type": "code",
   "execution_count": null,
   "id": "ded11007",
   "metadata": {},
   "outputs": [],
   "source": []
  },
  {
   "cell_type": "code",
   "execution_count": null,
   "id": "28c8fb33",
   "metadata": {},
   "outputs": [],
   "source": []
  },
  {
   "cell_type": "code",
   "execution_count": null,
   "id": "48ea8f46",
   "metadata": {},
   "outputs": [],
   "source": []
  },
  {
   "cell_type": "markdown",
   "id": "d72ef7b5",
   "metadata": {},
   "source": [
    "## Q--9"
   ]
  },
  {
   "cell_type": "code",
   "execution_count": 88,
   "id": "3bccdb36",
   "metadata": {},
   "outputs": [
    {
     "name": "stderr",
     "output_type": "stream",
     "text": [
      "<ipython-input-88-960f57b6d8e4>:1: DeprecationWarning: executable_path has been deprecated, please pass in a Service object\n",
      "  driver= webdriver.Chrome(r\"C:\\chromedriver.exe\")\n",
      "<ipython-input-88-960f57b6d8e4>:3: DeprecationWarning: find_element_by_* commands are deprecated. Please use find_element() instead\n",
      "  job=driver.find_element_by_xpath(\"/html/body/div[1]/nav/nav/a[6]\")  ## Working.\n",
      "<ipython-input-88-960f57b6d8e4>:5: DeprecationWarning: find_element_by_* commands are deprecated. Please use find_element() instead\n",
      "  job=driver.find_element_by_xpath(\"/html/body/div/div/div/div[2]/div[1]/div/div/div/div/span/input\")  ## Working.\n",
      "<ipython-input-88-960f57b6d8e4>:7: DeprecationWarning: find_element_by_* commands are deprecated. Please use find_element() instead\n",
      "  search_btn = driver.find_element_by_xpath(\"//button[@class='ab_btn search-btn round']/span\")\n"
     ]
    }
   ],
   "source": [
    "driver= webdriver.Chrome(r\"C:\\chromedriver.exe\")\n",
    "driver.get(\"https://www.ambitionbox.com/\")\n",
    "job=driver.find_element_by_xpath(\"/html/body/div[1]/nav/nav/a[6]\")  ## Working.\n",
    "job.click()\n",
    "job=driver.find_element_by_xpath(\"/html/body/div/div/div/div[2]/div[1]/div/div/div/div/span/input\")  ## Working.\n",
    "job.send_keys(\"Data scientist \")\n",
    "search_btn = driver.find_element_by_xpath(\"//button[@class='ab_btn search-btn round']/span\")\n",
    "search_btn.click()\n",
    "\n"
   ]
  },
  {
   "cell_type": "code",
   "execution_count": null,
   "id": "c2a26bba",
   "metadata": {},
   "outputs": [],
   "source": []
  },
  {
   "cell_type": "code",
   "execution_count": null,
   "id": "8459da78",
   "metadata": {},
   "outputs": [],
   "source": []
  },
  {
   "cell_type": "markdown",
   "id": "fc1110b1",
   "metadata": {},
   "source": [
    "### Q--10"
   ]
  },
  {
   "cell_type": "code",
   "execution_count": 19,
   "id": "6b500105",
   "metadata": {},
   "outputs": [
    {
     "name": "stderr",
     "output_type": "stream",
     "text": [
      "<ipython-input-19-c1562f70d6f1>:1: DeprecationWarning: executable_path has been deprecated, please pass in a Service object\n",
      "  driver= webdriver.Chrome(r\"C:\\chromedriver.exe\")\n"
     ]
    }
   ],
   "source": [
    "driver= webdriver.Chrome(r\"C:\\chromedriver.exe\")\n",
    "driver.get(\"https://www.ambitionbox.com/\")"
   ]
  },
  {
   "cell_type": "code",
   "execution_count": 20,
   "id": "d8f3771f",
   "metadata": {},
   "outputs": [],
   "source": [
    "company_list=[]\n",
    "experience_list=[]\n",
    "record_list=[]\n",
    "minimum_list=[]\n",
    "average_list=[]"
   ]
  },
  {
   "cell_type": "code",
   "execution_count": 21,
   "id": "50614888",
   "metadata": {},
   "outputs": [
    {
     "name": "stderr",
     "output_type": "stream",
     "text": [
      "<ipython-input-21-6d20c8a9b8d6>:1: DeprecationWarning: find_element_by_* commands are deprecated. Please use find_element() instead\n",
      "  loc=driver.find_element_by_xpath(\"/html/body/div[1]/nav/nav/a[4]\")  ## Working.\n",
      "<ipython-input-21-6d20c8a9b8d6>:3: DeprecationWarning: find_element_by_* commands are deprecated. Please use find_element() instead\n",
      "  search_job = driver.find_element_by_id('jobProfileSearchbox')\n"
     ]
    }
   ],
   "source": [
    "loc=driver.find_element_by_xpath(\"/html/body/div[1]/nav/nav/a[4]\")  ## Working.\n",
    "loc.click()\n",
    "search_job = driver.find_element_by_id('jobProfileSearchbox')\n",
    "search_job.send_keys(\"Data scientist \")\n",
    "\n"
   ]
  },
  {
   "cell_type": "code",
   "execution_count": 22,
   "id": "f9b58254",
   "metadata": {},
   "outputs": [
    {
     "name": "stderr",
     "output_type": "stream",
     "text": [
      "<ipython-input-22-88ae761630c8>:1: DeprecationWarning: find_element_by_* commands are deprecated. Please use find_element() instead\n",
      "  loca=driver.find_element_by_xpath(\"/html/body/div/div/div/main/section[1]/div[2]/div[2]/div/div[6]\")\n"
     ]
    }
   ],
   "source": [
    "loca=driver.find_element_by_xpath(\"/html/body/div/div/div/main/section[1]/div[2]/div[2]/div/div[6]\")\n",
    "\n",
    "loca.click()"
   ]
  },
  {
   "cell_type": "code",
   "execution_count": 23,
   "id": "b3e76719",
   "metadata": {},
   "outputs": [
    {
     "name": "stderr",
     "output_type": "stream",
     "text": [
      "<ipython-input-23-b64f41c7c61b>:1: DeprecationWarning: find_elements_by_* commands are deprecated. Please use find_elements() instead\n",
      "  company_tags= driver.find_elements_by_xpath(\"//div[@class='name']\")\n"
     ]
    },
    {
     "data": {
      "text/plain": [
       "[<selenium.webdriver.remote.webelement.WebElement (session=\"7274c54750c4a746dbf9a823645094d5\", element=\"2b1bd329-7488-4e5b-b48c-1aa7d37085a3\")>,\n",
       " <selenium.webdriver.remote.webelement.WebElement (session=\"7274c54750c4a746dbf9a823645094d5\", element=\"c1f1444e-5902-4980-8c9b-58463a73d070\")>,\n",
       " <selenium.webdriver.remote.webelement.WebElement (session=\"7274c54750c4a746dbf9a823645094d5\", element=\"d64b10c4-be25-4544-9308-8b42cc90ca00\")>,\n",
       " <selenium.webdriver.remote.webelement.WebElement (session=\"7274c54750c4a746dbf9a823645094d5\", element=\"aa580828-5c22-44c6-81f3-fabc59475c6e\")>,\n",
       " <selenium.webdriver.remote.webelement.WebElement (session=\"7274c54750c4a746dbf9a823645094d5\", element=\"ec896229-5e89-492f-b5d8-8870369ecede\")>,\n",
       " <selenium.webdriver.remote.webelement.WebElement (session=\"7274c54750c4a746dbf9a823645094d5\", element=\"dbb6a5fa-b4c1-4148-984d-0501c208ae7d\")>,\n",
       " <selenium.webdriver.remote.webelement.WebElement (session=\"7274c54750c4a746dbf9a823645094d5\", element=\"7078e13c-7d73-428f-a000-6dd1602efb9a\")>,\n",
       " <selenium.webdriver.remote.webelement.WebElement (session=\"7274c54750c4a746dbf9a823645094d5\", element=\"e7904c63-9a87-40c3-bef1-cf962c61aeea\")>,\n",
       " <selenium.webdriver.remote.webelement.WebElement (session=\"7274c54750c4a746dbf9a823645094d5\", element=\"0a04d08b-3b9b-4769-b620-ff42548f3698\")>,\n",
       " <selenium.webdriver.remote.webelement.WebElement (session=\"7274c54750c4a746dbf9a823645094d5\", element=\"f6354236-065b-42f5-972a-90c74f835e06\")>]"
      ]
     },
     "execution_count": 23,
     "metadata": {},
     "output_type": "execute_result"
    }
   ],
   "source": [
    "company_tags= driver.find_elements_by_xpath(\"//div[@class='name']\")\n",
    "company_tags"
   ]
  },
  {
   "cell_type": "code",
   "execution_count": 24,
   "id": "3b2509ad",
   "metadata": {},
   "outputs": [
    {
     "name": "stderr",
     "output_type": "stream",
     "text": [
      "<ipython-input-24-2e9f8930dbd8>:4: DeprecationWarning: find_elements_by_* commands are deprecated. Please use find_elements() instead\n",
      "  experience_tags= driver.find_elements_by_xpath(\"//div[@class='salaries sbold-list-header']\")\n",
      "<ipython-input-24-2e9f8930dbd8>:8: DeprecationWarning: find_elements_by_* commands are deprecated. Please use find_elements() instead\n",
      "  record_tags= driver.find_elements_by_xpath(\"//div[@class='name']/span[1]\")\n",
      "<ipython-input-24-2e9f8930dbd8>:12: DeprecationWarning: find_elements_by_* commands are deprecated. Please use find_elements() instead\n",
      "  minimum_tags= driver.find_elements_by_xpath(\"//div[@class='value body-medium']\")\n"
     ]
    }
   ],
   "source": [
    "for i in company_tags:\n",
    "        company=i.text\n",
    "        company_list.append(company)\n",
    "experience_tags= driver.find_elements_by_xpath(\"//div[@class='salaries sbold-list-header']\")\n",
    "for i in experience_tags:\n",
    "        exp=i.text\n",
    "        experience_list.append(exp)\n",
    "record_tags= driver.find_elements_by_xpath(\"//div[@class='name']/span[1]\")\n",
    "for i in record_tags:\n",
    "        rec=i.text\n",
    "        record_list.append(rec)\n",
    "minimum_tags= driver.find_elements_by_xpath(\"//div[@class='value body-medium']\")\n",
    "for i in minimum_tags:\n",
    "        mini=i.text\n",
    "        minimum_list.append(mini)\n"
   ]
  },
  {
   "cell_type": "code",
   "execution_count": 25,
   "id": "203e05f8",
   "metadata": {},
   "outputs": [
    {
     "name": "stderr",
     "output_type": "stream",
     "text": [
      "<ipython-input-25-0768d4048f70>:1: DeprecationWarning: find_elements_by_* commands are deprecated. Please use find_elements() instead\n",
      "  average_tags= driver.find_elements_by_xpath(\"//p[@class='averageCtc']\")\n"
     ]
    },
    {
     "data": {
      "text/plain": [
       "['₹ 4.7L',\n",
       " '₹ 4.1L',\n",
       " '₹ 4.0L',\n",
       " '₹ 3.9L',\n",
       " '₹ 3.9L',\n",
       " '₹ 3.9L',\n",
       " '₹ 3.8L',\n",
       " '₹ 3.6L',\n",
       " '₹ 3.6L',\n",
       " '₹ 3.5L']"
      ]
     },
     "execution_count": 25,
     "metadata": {},
     "output_type": "execute_result"
    }
   ],
   "source": [
    "average_tags= driver.find_elements_by_xpath(\"//p[@class='averageCtc']\")\n",
    "for i in average_tags:\n",
    "        avg=i.text\n",
    "        average_list.append(avg)\n",
    "average_list       \n"
   ]
  },
  {
   "cell_type": "code",
   "execution_count": null,
   "id": "82e1c406",
   "metadata": {},
   "outputs": [],
   "source": []
  }
 ],
 "metadata": {
  "kernelspec": {
   "display_name": "Python 3",
   "language": "python",
   "name": "python3"
  },
  "language_info": {
   "codemirror_mode": {
    "name": "ipython",
    "version": 3
   },
   "file_extension": ".py",
   "mimetype": "text/x-python",
   "name": "python",
   "nbconvert_exporter": "python",
   "pygments_lexer": "ipython3",
   "version": "3.8.8"
  }
 },
 "nbformat": 4,
 "nbformat_minor": 5
}
